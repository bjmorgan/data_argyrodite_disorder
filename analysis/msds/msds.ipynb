{
 "cells": [
  {
   "cell_type": "markdown",
   "metadata": {},
   "source": [
    "# MSD analysis\n",
    "This notebook contains an analysis of lithium mean-squared-displacements (MSDs) in Li<sub>6</sub>PS<sub>5</sub><i>X</i> (<i>X</i>=I, Cl) at 500 K.\n",
    "\n",
    "For each system (Li<sub>6</sub>PS<sub>5</sub>I and Li<sub>6</sub>PS<sub>5</sub>Cl) and each degree of anion–site-inversion (0 %, 50 %, and 100%) we calculate the MSD as a function of time, and estimate 95% confidence intervals using bootstrapping."
   ]
  },
  {
   "cell_type": "code",
   "execution_count": 1,
   "metadata": {},
   "outputs": [],
   "source": [
    "import yaml\n",
    "from kinisi.analyze import MSDAnalyzer\n",
    "\n",
    "import matplotlib.pyplot as plt\n",
    "%config InlineBackend.figure_format = 'retina'"
   ]
  },
  {
   "cell_type": "code",
   "execution_count": 2,
   "metadata": {},
   "outputs": [],
   "source": [
    "# Parameters for creating a Pymatgen DiffusionAnalyzer object\n",
    "msd_params = {'specie': 'Li',\n",
    "              'time_step': 2.0,\n",
    "              'step_skip': 50,\n",
    "              'min_obs': 50}"
   ]
  },
  {
   "cell_type": "code",
   "execution_count": 3,
   "metadata": {},
   "outputs": [
    {
     "name": "stdout",
     "output_type": "stream",
     "text": [
      "{'Li6PS5I': {'0p': [1, 2, 3, 4, 5, 6], '50p': [1, 2, 3, 4, 5, 6, 7], '100p': [1, 2, 3, 4, 5, 6, 7]}, 'Li6PS5Cl': {'0p': [1, 2, 3, 4, 5], '50p': [1, 2, 3, 4, 5, 6], '100p': [1, 2, 3, 4, 5, 6]}}\n"
     ]
    }
   ],
   "source": [
    "with open('../md_runs.yaml', 'r') as f:\n",
    "    md_runs = yaml.safe_load(f)\n",
    "print(md_runs)"
   ]
  },
  {
   "cell_type": "code",
   "execution_count": null,
   "metadata": {},
   "outputs": [
    {
     "name": "stdout",
     "output_type": "stream",
     "text": [
      "Analysing Li6PS5I: 0p\n"
     ]
    },
    {
     "name": "stderr",
     "output_type": "stream",
     "text": [
      "Reading Trajectory: 100%|██████████| 700/700 [00:00<00:00, 3085.25it/s]\n",
      "Getting Displacements: 100%|██████████| 233/233 [00:00<00:00, 578.72it/s]\n",
      "Bootstrapping Displacements: 100%|██████████| 233/233 [00:29<00:00,  8.02it/s]\n"
     ]
    },
    {
     "name": "stdout",
     "output_type": "stream",
     "text": [
      "Analysing Li6PS5I: 50p\n"
     ]
    },
    {
     "name": "stderr",
     "output_type": "stream",
     "text": [
      "Reading Trajectory: 100%|██████████| 700/700 [00:00<00:00, 3374.84it/s]\n",
      "Getting Displacements: 100%|██████████| 233/233 [00:00<00:00, 1107.63it/s]\n",
      "Bootstrapping Displacements: 100%|██████████| 233/233 [00:30<00:00,  7.67it/s]\n"
     ]
    },
    {
     "name": "stdout",
     "output_type": "stream",
     "text": [
      "Analysing Li6PS5I: 100p\n"
     ]
    },
    {
     "name": "stderr",
     "output_type": "stream",
     "text": [
      "Reading Trajectory: 100%|██████████| 700/700 [00:00<00:00, 3416.45it/s]\n",
      "Getting Displacements: 100%|██████████| 233/233 [00:00<00:00, 1010.13it/s]\n",
      "Bootstrapping Displacements: 100%|██████████| 233/233 [00:30<00:00,  7.57it/s]\n"
     ]
    },
    {
     "name": "stdout",
     "output_type": "stream",
     "text": [
      "Analysing Li6PS5Cl: 0p\n"
     ]
    },
    {
     "name": "stderr",
     "output_type": "stream",
     "text": [
      "Reading Trajectory: 100%|██████████| 700/700 [00:00<00:00, 3624.54it/s]\n",
      "Getting Displacements: 100%|██████████| 233/233 [00:00<00:00, 1211.08it/s]\n",
      "Bootstrapping Displacements: 100%|██████████| 233/233 [00:30<00:00,  7.65it/s]\n"
     ]
    },
    {
     "name": "stdout",
     "output_type": "stream",
     "text": [
      "Analysing Li6PS5Cl: 50p\n"
     ]
    },
    {
     "name": "stderr",
     "output_type": "stream",
     "text": [
      "Reading Trajectory: 100%|██████████| 700/700 [00:00<00:00, 3720.02it/s]\n",
      "Getting Displacements: 100%|██████████| 233/233 [00:00<00:00, 1150.63it/s]\n",
      "Bootstrapping Displacements: 100%|██████████| 233/233 [00:30<00:00,  7.75it/s]\n"
     ]
    },
    {
     "name": "stdout",
     "output_type": "stream",
     "text": [
      "Analysing Li6PS5Cl: 100p\n"
     ]
    },
    {
     "name": "stderr",
     "output_type": "stream",
     "text": [
      "Reading Trajectory: 100%|██████████| 700/700 [00:00<00:00, 3279.06it/s]\n",
      "Getting Displacements: 100%|██████████| 233/233 [00:00<00:00, 1208.28it/s]\n",
      "Bootstrapping Displacements:  18%|█▊        | 43/233 [00:10<00:24,  7.69it/s]"
     ]
    }
   ],
   "source": [
    "data_dir = '../../data'\n",
    "msda = {}\n",
    "errors = {}\n",
    "for system in md_runs:\n",
    "    msda[system] = {}\n",
    "    for disorder, runs in md_runs[system].items():\n",
    "        print(f'Analysing {system}: {disorder}')\n",
    "        xdatcars = [f'{data_dir}/{system}/{disorder}/run{i}/actual_XDATCAR.gz' for i in runs]\n",
    "        msda[system][disorder] = MSDAnalyzer(xdatcars, msd_params, dtype='Xdatcar')"
   ]
  },
  {
   "cell_type": "code",
   "execution_count": null,
   "metadata": {},
   "outputs": [],
   "source": [
    "import warnings\n",
    "warnings.filterwarnings('ignore')\n",
    "\n",
    "from matplotlib import rcParams\n",
    "rcParams['font.family'] = 'serif'\n",
    "rcParams['font.sans-serif'] = ['Iowan Old Style']\n",
    "rcParams['font.size'] = 18\n",
    "rcParams['pdf.fonttype'] = 42\n",
    "rcParams['ps.fonttype'] = 42\n",
    "rcParams['mathtext.fontset'] = 'custom'\n",
    "rcParams['mathtext.rm'] = 'Iowan Old Style'\n",
    "rcParams['mathtext.it'] = 'Iowan Old Style:italic'\n",
    "rcParams['mathtext.bf'] = 'Iowan Old Style:bold'\n",
    "\n",
    "fig, ax = plt.subplots(3,2,figsize=(10,10))\n",
    "\n",
    "m = msda['Li6PS5I']['0p']\n",
    "ax[0,0].fill_between(m.dt/1000, m.con_int[0], m.con_int[1], alpha=0.3)\n",
    "ax[0,0].plot(m.dt/1000, m.msd)\n",
    "\n",
    "m = msda['Li6PS5I']['50p']\n",
    "ax[1,0].fill_between(m.dt/1000, m.con_int[0], m.con_int[1], alpha=0.3)\n",
    "ax[1,0].plot(m.dt/1000, m.msd)\n",
    "\n",
    "m = msda['Li6PS5I']['100p']\n",
    "ax[2,0].fill_between(m.dt/1000, m.con_int[0], m.con_int[1], alpha=0.3)\n",
    "ax[2,0].plot(m.dt/1000, m.msd)\n",
    "\n",
    "m = msda['Li6PS5Cl']['0p']\n",
    "ax[0,1].fill_between(m.dt/1000, m.con_int[0], m.con_int[1], alpha=0.3)\n",
    "ax[0,1].plot(m.dt/1000, m.msd)\n",
    "\n",
    "m = msda['Li6PS5Cl']['50p']\n",
    "ax[1,1].fill_between(m.dt/1000, m.con_int[0], m.con_int[1], alpha=0.3)\n",
    "ax[1,1].plot(m.dt/1000, m.msd)\n",
    "\n",
    "m = msda['Li6PS5Cl']['100p']\n",
    "ax[2,1].fill_between(m.dt/1000, m.con_int[0], m.con_int[1], alpha=0.3)\n",
    "ax[2,1].plot(m.dt/1000, m.msd)\n",
    "\n",
    "for i in range(3):\n",
    "    for j in range(2):\n",
    "        ax[i,j].set_ylim([0,55])\n",
    "        ax[i,j].set_xlim([0,70])\n",
    "        ax[i,j].set_xticks([0,20,40,60])\n",
    "        ax[i,j].set_yticks([0,20,40])\n",
    "        \n",
    "xlabel = r'Time / ps'\n",
    "ylabel = r'MSD / $\\mathrm{\\AA}^2$'\n",
    "# ax[2,0].set_xticks(range(5))\n",
    "ax[0,0].set_title(r'Li$_6$PS$_5$I', pad=15)\n",
    "ax[0,1].set_title(r'Li$_6$PS$_5$Cl', pad=15)\n",
    "ax[2,0].set_xlabel(xlabel, labelpad=10)\n",
    "ax[2,0].set_ylabel(ylabel, labelpad=10)\n",
    "ax[1,0].set_ylabel(ylabel, labelpad=10)\n",
    "ax[0,0].set_ylabel(ylabel, labelpad=10)\n",
    "ax[2,1].set_xlabel(xlabel, labelpad=10)\n",
    "\n",
    "ax[0,1].text(73,27,'0 %')\n",
    "ax[1,1].text(73,27,'50 %')\n",
    "ax[2,1].text(73,27,'100 %')\n",
    "    \n",
    "fig.tight_layout()    \n",
    "# fig.subplots_adjust(wspace=0, hspace=0)\n",
    "fig.savefig('../../figures/msd.pdf', bbox_inches='tight')\n",
    "fig.show()"
   ]
  },
  {
   "cell_type": "code",
   "execution_count": 6,
   "metadata": {},
   "outputs": [
    {
     "data": {
      "application/json": {
       "Software versions": [
        {
         "module": "Python",
         "version": "3.7.0 64bit [Clang 10.0.0 (clang-1000.10.44.2)]"
        },
        {
         "module": "IPython",
         "version": "7.0.1"
        },
        {
         "module": "OS",
         "version": "Darwin 19.4.0 x86_64 i386 64bit"
        },
        {
         "module": "yaml",
         "version": "5.2"
        },
        {
         "module": "matplotlib",
         "version": "3.2.0rc1"
        },
        {
         "module": "kinisi",
         "version": "0.0.1"
        }
       ]
      },
      "text/html": [
       "<table><tr><th>Software</th><th>Version</th></tr><tr><td>Python</td><td>3.7.0 64bit [Clang 10.0.0 (clang-1000.10.44.2)]</td></tr><tr><td>IPython</td><td>7.0.1</td></tr><tr><td>OS</td><td>Darwin 19.4.0 x86_64 i386 64bit</td></tr><tr><td>yaml</td><td>5.2</td></tr><tr><td>matplotlib</td><td>3.2.0rc1</td></tr><tr><td>kinisi</td><td>0.0.1</td></tr><tr><td colspan='2'>Thu May 21 11:30:55 2020 BST</td></tr></table>"
      ],
      "text/latex": [
       "\\begin{tabular}{|l|l|}\\hline\n",
       "{\\bf Software} & {\\bf Version} \\\\ \\hline\\hline\n",
       "Python & 3.7.0 64bit [Clang 10.0.0 (clang-1000.10.44.2)] \\\\ \\hline\n",
       "IPython & 7.0.1 \\\\ \\hline\n",
       "OS & Darwin 19.4.0 x86\\_64 i386 64bit \\\\ \\hline\n",
       "yaml & 5.2 \\\\ \\hline\n",
       "matplotlib & 3.2.0rc1 \\\\ \\hline\n",
       "kinisi & 0.0.1 \\\\ \\hline\n",
       "\\hline \\multicolumn{2}{|l|}{Thu May 21 11:30:55 2020 BST} \\\\ \\hline\n",
       "\\end{tabular}\n"
      ],
      "text/plain": [
       "Software versions\n",
       "Python 3.7.0 64bit [Clang 10.0.0 (clang-1000.10.44.2)]\n",
       "IPython 7.0.1\n",
       "OS Darwin 19.4.0 x86_64 i386 64bit\n",
       "yaml 5.2\n",
       "matplotlib 3.2.0rc1\n",
       "kinisi 0.0.1\n",
       "Thu May 21 11:30:55 2020 BST"
      ]
     },
     "execution_count": 6,
     "metadata": {},
     "output_type": "execute_result"
    }
   ],
   "source": [
    "%load_ext version_information\n",
    "\n",
    "%version_information yaml, matplotlib, kinisi"
   ]
  }
 ],
 "metadata": {
  "kernelspec": {
   "display_name": "Python 3",
   "language": "python",
   "name": "python3"
  },
  "language_info": {
   "codemirror_mode": {
    "name": "ipython",
    "version": 3
   },
   "file_extension": ".py",
   "mimetype": "text/x-python",
   "name": "python",
   "nbconvert_exporter": "python",
   "pygments_lexer": "ipython3",
   "version": "3.7.7"
  }
 },
 "nbformat": 4,
 "nbformat_minor": 2
}
