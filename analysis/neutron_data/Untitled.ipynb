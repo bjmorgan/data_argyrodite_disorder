{
 "cells": [
  {
   "cell_type": "code",
   "execution_count": 3,
   "metadata": {},
   "outputs": [],
   "source": [
    "import pandas as pd\n",
    "import matplotlib.pyplot as plt\n",
    "%matplotlib inline"
   ]
  },
  {
   "cell_type": "code",
   "execution_count": 6,
   "metadata": {},
   "outputs": [],
   "source": [
    "data_file = '../../data/neutron_data/Li6PS5X_T5_T2_occupations.csv'\n",
    "with open(data_file, 'r') as f:\n",
    "    names = f.readline()[1:].split()"
   ]
  },
  {
   "cell_type": "code",
   "execution_count": 9,
   "metadata": {},
   "outputs": [
    {
     "data": {
      "text/html": [
       "<div>\n",
       "<style scoped>\n",
       "    .dataframe tbody tr th:only-of-type {\n",
       "        vertical-align: middle;\n",
       "    }\n",
       "\n",
       "    .dataframe tbody tr th {\n",
       "        vertical-align: top;\n",
       "    }\n",
       "\n",
       "    .dataframe thead th {\n",
       "        text-align: right;\n",
       "    }\n",
       "</style>\n",
       "<table border=\"1\" class=\"dataframe\">\n",
       "  <thead>\n",
       "    <tr style=\"text-align: right;\">\n",
       "      <th></th>\n",
       "      <th>X</th>\n",
       "      <th>T</th>\n",
       "      <th>occ_T5</th>\n",
       "      <th>percent_T5</th>\n",
       "      <th>occ_T2</th>\n",
       "      <th>percent_T2</th>\n",
       "    </tr>\n",
       "  </thead>\n",
       "  <tbody>\n",
       "    <tr>\n",
       "      <th>0</th>\n",
       "      <td>Cl</td>\n",
       "      <td>150</td>\n",
       "      <td>0.43200</td>\n",
       "      <td>86.400</td>\n",
       "      <td>0.06800</td>\n",
       "      <td>13.600</td>\n",
       "    </tr>\n",
       "    <tr>\n",
       "      <th>1</th>\n",
       "      <td>Cl</td>\n",
       "      <td>200</td>\n",
       "      <td>0.42905</td>\n",
       "      <td>85.810</td>\n",
       "      <td>0.07095</td>\n",
       "      <td>14.190</td>\n",
       "    </tr>\n",
       "    <tr>\n",
       "      <th>2</th>\n",
       "      <td>Cl</td>\n",
       "      <td>250</td>\n",
       "      <td>0.42500</td>\n",
       "      <td>85.000</td>\n",
       "      <td>0.07500</td>\n",
       "      <td>15.000</td>\n",
       "    </tr>\n",
       "    <tr>\n",
       "      <th>3</th>\n",
       "      <td>Cl</td>\n",
       "      <td>300</td>\n",
       "      <td>0.42100</td>\n",
       "      <td>84.200</td>\n",
       "      <td>0.07900</td>\n",
       "      <td>15.800</td>\n",
       "    </tr>\n",
       "    <tr>\n",
       "      <th>4</th>\n",
       "      <td>Cl</td>\n",
       "      <td>350</td>\n",
       "      <td>0.40500</td>\n",
       "      <td>81.000</td>\n",
       "      <td>0.09500</td>\n",
       "      <td>19.000</td>\n",
       "    </tr>\n",
       "    <tr>\n",
       "      <th>5</th>\n",
       "      <td>I</td>\n",
       "      <td>200</td>\n",
       "      <td>0.38500</td>\n",
       "      <td>77.000</td>\n",
       "      <td>0.23100</td>\n",
       "      <td>23.100</td>\n",
       "    </tr>\n",
       "    <tr>\n",
       "      <th>6</th>\n",
       "      <td>I</td>\n",
       "      <td>250</td>\n",
       "      <td>0.38300</td>\n",
       "      <td>76.600</td>\n",
       "      <td>0.23400</td>\n",
       "      <td>23.400</td>\n",
       "    </tr>\n",
       "    <tr>\n",
       "      <th>7</th>\n",
       "      <td>I</td>\n",
       "      <td>300</td>\n",
       "      <td>0.38181</td>\n",
       "      <td>76.362</td>\n",
       "      <td>0.23639</td>\n",
       "      <td>23.639</td>\n",
       "    </tr>\n",
       "    <tr>\n",
       "      <th>8</th>\n",
       "      <td>I</td>\n",
       "      <td>350</td>\n",
       "      <td>0.37929</td>\n",
       "      <td>75.858</td>\n",
       "      <td>0.24142</td>\n",
       "      <td>24.142</td>\n",
       "    </tr>\n",
       "  </tbody>\n",
       "</table>\n",
       "</div>"
      ],
      "text/plain": [
       "    X    T   occ_T5  percent_T5   occ_T2  percent_T2\n",
       "0  Cl  150  0.43200      86.400  0.06800      13.600\n",
       "1  Cl  200  0.42905      85.810  0.07095      14.190\n",
       "2  Cl  250  0.42500      85.000  0.07500      15.000\n",
       "3  Cl  300  0.42100      84.200  0.07900      15.800\n",
       "4  Cl  350  0.40500      81.000  0.09500      19.000\n",
       "5   I  200  0.38500      77.000  0.23100      23.100\n",
       "6   I  250  0.38300      76.600  0.23400      23.400\n",
       "7   I  300  0.38181      76.362  0.23639      23.639\n",
       "8   I  350  0.37929      75.858  0.24142      24.142"
      ]
     },
     "execution_count": 9,
     "metadata": {},
     "output_type": "execute_result"
    }
   ],
   "source": [
    "df = pd.read_csv('../../data/neutron_data/Li6PS5X_T5_T2_occupations.csv', \n",
    "                 comment='#', delim_whitespace=True,names=names)\n",
    "df"
   ]
  },
  {
   "cell_type": "code",
   "execution_count": 33,
   "metadata": {},
   "outputs": [
    {
     "data": {
      "text/plain": [
       "(120, 380)"
      ]
     },
     "execution_count": 33,
     "metadata": {},
     "output_type": "execute_result"
    },
    {
     "data": {
      "image/png": "[encoded data removed]",
      "text/plain": [
       "<Figure size 432x288 with 2 Axes>"
      ]
     },
     "metadata": {
      "image/png": {
       "height": 252,
       "width": 375
      },
      "needs_background": "light"
     },
     "output_type": "display_data"
    }
   ],
   "source": [
    "fig, ax = plt.subplots(1, 2)\n",
    "loc = df[df.X == 'I']\n",
    "ax[0].plot(loc['T'], loc['percent_T5'], 'o--')\n",
    "ax[0].plot(loc['T'], loc['percent_T2'], 'o--')\n",
    "loc = df[df.X == 'Cl']\n",
    "ax[1].plot(loc['T'], loc['percent_T5'], 'o--')\n",
    "ax[1].plot(loc['T'], loc['percent_T2'], 'o--')\n",
    "ax[0].set_ylim([0,100])\n",
    "ax[1].set_ylim([0,100])\n",
    "ax[0].set_xlim([120,380])\n",
    "ax[1].set_xlim([120,380])\n"
   ]
  },
  {
   "cell_type": "code",
   "execution_count": 20,
   "metadata": {},
   "outputs": [
    {
     "data": {
      "text/plain": [
       "0    150\n",
       "1    200\n",
       "2    250\n",
       "3    300\n",
       "4    350\n",
       "Name: T, dtype: int64"
      ]
     },
     "execution_count": 20,
     "metadata": {},
     "output_type": "execute_result"
    }
   ],
   "source": [
    "loc = df[df.X == 'Cl']\n",
    "loc['T']"
   ]
  },
  {
   "cell_type": "code",
   "execution_count": null,
   "metadata": {},
   "outputs": [],
   "source": []
  }
 ],
 "metadata": {
  "kernelspec": {
   "display_name": "Python 3",
   "language": "python",
   "name": "python3"
  },
  "language_info": {
   "codemirror_mode": {
    "name": "ipython",
    "version": 3
   },
   "file_extension": ".py",
   "mimetype": "text/x-python",
   "name": "python",
   "nbconvert_exporter": "python",
   "pygments_lexer": "ipython3",
   "version": "3.7.0"
  }
 },
 "nbformat": 4,
 "nbformat_minor": 2
}
