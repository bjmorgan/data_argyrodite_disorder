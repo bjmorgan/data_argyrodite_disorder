{
 "cells": [
  {
   "cell_type": "markdown",
   "metadata": {},
   "source": [
    "# MD trajectory versus inherent structure trajectory site assignments\n",
    "\n",
    "This notebook compares the a site-occupation analysis of the Li<sub>6</sub>PS<sub>5</sub><i>X</i> molecular dynamics simulation trajectories from the \"raw\" molecular dynamics trajectories (\"actual\" trajectories) and the set of quenched structures (\"inherent\" trajectories)."
   ]
  },
  {
   "cell_type": "code",
   "execution_count": 1,
   "metadata": {},
   "outputs": [],
   "source": [
    "import yaml\n",
    "from pymatgen.io.vasp import Xdatcar\n",
    "import matplotlib.pyplot as plt\n",
    "from matplotlib.ticker import MaxNLocator\n",
    "from site_analysis_functions import tetrahedral_site_analysis\n",
    "from site_analysis_functions import site_populations\n",
    "import numpy as np\n",
    "\n",
    "import sys\n",
    "sys.path.insert(0, \"../../scripts/\")\n",
    "from utils import flatten_list"
   ]
  },
  {
   "cell_type": "code",
   "execution_count": 2,
   "metadata": {},
   "outputs": [
    {
     "name": "stdout",
     "output_type": "stream",
     "text": [
      "{'Li6PS5I': {'0p': [1, 2, 3, 4, 5, 6], '50p': [1, 2, 3, 4, 5, 6, 7], '100p': [1, 2, 3, 4, 5, 6, 7]}, 'Li6PS5Cl': {'0p': [1, 2, 3, 4, 5], '50p': [1, 2, 3, 4, 5, 6], '100p': [1, 2, 3, 4, 5, 6]}}\n"
     ]
    }
   ],
   "source": [
    "with open('../md_runs.yaml', 'r') as f:\n",
    "    md_runs = yaml.safe_load(f)\n",
    "print(md_runs)"
   ]
  },
  {
   "cell_type": "code",
   "execution_count": null,
   "metadata": {},
   "outputs": [
    {
     "name": "stdout",
     "output_type": "stream",
     "text": [
      "Analysing Li6PS5I: 0p\n",
      "max mapping disp = 0.26 Angstroms\n"
     ]
    },
    {
     "name": "stderr",
     "output_type": "stream",
     "text": [
      "100%|██████████| 700/700 [14:22<00:00,  1.23s/ steps]\n"
     ]
    },
    {
     "name": "stdout",
     "output_type": "stream",
     "text": [
      "max mapping disp = 0.77 Angstroms\n"
     ]
    },
    {
     "name": "stderr",
     "output_type": "stream",
     "text": [
      " 17%|█▋        | 122/700 [03:18<14:46,  1.53s/ steps]"
     ]
    }
   ],
   "source": [
    "data_dir = '../../data'\n",
    "\n",
    "x_spec = {'Li6PS5I': 'I', 'Li6PS5Cl': 'Cl'}\n",
    "disorder_selection = {'Li6PS5I': '0p', 'Li6PS5Cl': '50p'}\n",
    "\n",
    "inherent_trajectory = {}\n",
    "inherent_populations = {}\n",
    "actual_trajectory = {}\n",
    "actual_populations = {}\n",
    "for system in md_runs:\n",
    "    inherent_trajectory[system] = {}\n",
    "    inherent_populations[system] = {}\n",
    "    actual_trajectory[system] = {}\n",
    "    actual_populations[system] = {}\n",
    "    disorder = disorder_selection[system]\n",
    "    runs = md_runs[system][disorder]\n",
    "    print(f'Analysing {system}: {disorder}')\n",
    "    xdatcar_filenames = [f'{data_dir}/{system}/{disorder}/run{i}/inherent_XDATCAR.gz' for i in runs]\n",
    "    xdatcars = (Xdatcar(f) for f in xdatcar_filenames)\n",
    "    structures = flatten_list([x.structures for x in xdatcars])\n",
    "    inherent_trajectory[system][disorder] = tetrahedral_site_analysis(\n",
    "        structures, x_spec[system])\n",
    "    inherent_populations[system][disorder] = site_populations(\n",
    "        inherent_trajectory[system][disorder])\n",
    "\n",
    "    xdatcar_filenames = [f'{data_dir}/{system}/{disorder}/run{i}/actual_XDATCAR.gz' for i in runs]\n",
    "    xdatcars = (Xdatcar(f) for f in xdatcar_filenames)\n",
    "    structures = flatten_list([x.structures for x in xdatcars])\n",
    "    actual_trajectory[system][disorder] = tetrahedral_site_analysis(\n",
    "        structures, x_spec[system])\n",
    "    actual_populations[system][disorder] = site_populations(\n",
    "        actual_trajectory[system][disorder])"
   ]
  },
  {
   "cell_type": "code",
   "execution_count": null,
   "metadata": {},
   "outputs": [],
   "source": [
    "from matplotlib import rcParams\n",
    "\n",
    "rcParams['font.serif'] = \"Iowan Old Style\"\n",
    "rcParams['font.family'] = \"serif\"\n",
    "\n",
    "rcParams['font.family'] = 'serif'\n",
    "rcParams['mathtext.fontset'] = 'custom'\n",
    "rcParams['mathtext.rm'] = 'Iowan Old Style'\n",
    "rcParams['mathtext.it'] = 'Iowan Old Style:italic'\n",
    "rcParams['mathtext.bf'] = 'Iowan Old Style:bold'\n",
    "\n",
    "\n",
    "rcParams['pdf.fonttype'] = 42\n",
    "rcParams['ps.fonttype'] = 42\n",
    "rcParams.update({'font.size': 16})\n",
    "rcParams['text.usetex']=False"
   ]
  },
  {
   "cell_type": "code",
   "execution_count": null,
   "metadata": {},
   "outputs": [],
   "source": [
    "def site_mapping_stuff(it_at, at_at):\n",
    "    # first, how many sites are we dealing with?\n",
    "    site_ids, ind = np.unique(np.concatenate((at_at, it_at)), return_index=True)\n",
    "    site_ids = site_ids[np.argsort(ind)]\n",
    "    site_mapping = {s: i for i, s in enumerate(site_ids)}\n",
    "    mapped_it_at = [site_mapping[s] for s in it_at]\n",
    "    mapped_at_at = [site_mapping[s] for s in at_at]\n",
    "    return mapped_it_at, mapped_at_at"
   ]
  },
  {
   "cell_type": "code",
   "execution_count": null,
   "metadata": {},
   "outputs": [],
   "source": [
    "def plot_sites(it_at, at_at, ax):\n",
    "    a, b = site_mapping_stuff(it_at, at_at)\n",
    "    ax.plot(timesteps, b, '-', linewidth=2, label='raw coordinates', alpha=0.8)\n",
    "    ax.plot(timesteps, a, '-', linewidth=2, label='inherent structures', alpha=1.0)\n",
    "    ax.legend()\n",
    "    ind = list(set(a) | set(b))\n",
    "    ax.yaxis.set_major_locator(MaxNLocator(integer=True))\n",
    "    ax.set_yticks(np.arange(0, max(ind)+1, (max(a)+4)//5))\n",
    "    ax.set_xlim([0,70])\n",
    "    ax.set_xlabel('Time / ps')\n",
    "    ax.set_ylabel('Site index')\n",
    "    return"
   ]
  },
  {
   "cell_type": "code",
   "execution_count": null,
   "metadata": {
    "scrolled": true
   },
   "outputs": [],
   "source": [
    "it = inherent_trajectory['Li6PS5I']['0p']\n",
    "at = actual_trajectory['Li6PS5I']['0p']\n",
    "\n",
    "it_at = np.array(it.at)\n",
    "at_at = np.array(at.at)\n",
    "\n",
    "timesteps = np.arange(1, len(it)+1)/10\n",
    "\n",
    "for i in range(192):\n",
    "    print(f'i(Li) = {i}')\n",
    "    fig, ax = plt.subplots(1,1,figsize=(10,3))\n",
    "    plot_sites(it_at[:,i], at_at[:,i], ax)\n",
    "    plt.show()\n",
    "\n",
    "    print('–––––––––––––––––––––––––––––––––––––––––\\n')"
   ]
  },
  {
   "cell_type": "code",
   "execution_count": null,
   "metadata": {
    "scrolled": true
   },
   "outputs": [],
   "source": [
    "it = inherent_trajectory['Li6PS5Cl']['50p']\n",
    "at = actual_trajectory['Li6PS5Cl']['50p']\n",
    "\n",
    "it_at = np.array(it.at)\n",
    "at_at = np.array(at.at)\n",
    "\n",
    "timesteps = np.arange(1, len(it)+1)/10\n",
    "\n",
    "for i in range(192):\n",
    "    print(f'i(Li) = {i}')\n",
    "    fig, ax = plt.subplots(1,1,figsize=(10,3))\n",
    "    plot_sites(it_at[:,i], at_at[:,i], ax)\n",
    "    plt.show()\n",
    "\n",
    "    print('–––––––––––––––––––––––––––––––––––––––––\\n')"
   ]
  },
  {
   "cell_type": "code",
   "execution_count": null,
   "metadata": {},
   "outputs": [],
   "source": [
    "# Figure for SI\n",
    "fig, ax = plt.subplots(2, 1, figsize=(10,7))\n",
    "\n",
    "it = inherent_trajectory['Li6PS5I']['0p']\n",
    "at = actual_trajectory['Li6PS5I']['0p']\n",
    "it_at = np.array(it.at)\n",
    "at_at = np.array(at.at)\n",
    "i = 2\n",
    "plot_sites(it_at[:,i], at_at[:,i], ax[0])\n",
    "ax[0].legend(loc='upper left')\n",
    "ax[0].set_title('Li$_6$PS$_5$I 0%', loc='left', pad=15, fontsize=18)\n",
    "\n",
    "it = inherent_trajectory['Li6PS5Cl']['50p']\n",
    "at = actual_trajectory['Li6PS5Cl']['50p']\n",
    "it_at = np.array(it.at)\n",
    "at_at = np.array(at.at)\n",
    "i = 87\n",
    "plot_sites(it_at[:,i], at_at[:,i], ax[1])\n",
    "ax[1].legend(loc='upper left')\n",
    "ax[1].set_title('Li$_6$PS$_5$Cl 50%', loc='left', pad=15, fontsize=18)\n",
    "\n",
    "plt.tight_layout()\n",
    "\n",
    "plt.savefig('../../figures/inherent_vs_actual_sites_comparison.pdf')\n",
    "\n",
    "plt.show()"
   ]
  },
  {
   "cell_type": "code",
   "execution_count": null,
   "metadata": {},
   "outputs": [],
   "source": [
    "%load_ext version_information\n",
    "\n",
    "%version_information yaml, pymatgen, tqdm, numpy, site_analysis, matplotlib"
   ]
  }
 ],
 "metadata": {
  "kernelspec": {
   "display_name": "Python 3",
   "language": "python",
   "name": "python3"
  },
  "language_info": {
   "codemirror_mode": {
    "name": "ipython",
    "version": 3
   },
   "file_extension": ".py",
   "mimetype": "text/x-python",
   "name": "python",
   "nbconvert_exporter": "python",
   "pygments_lexer": "ipython3",
   "version": "3.7.7"
  }
 },
 "nbformat": 4,
 "nbformat_minor": 2
}
