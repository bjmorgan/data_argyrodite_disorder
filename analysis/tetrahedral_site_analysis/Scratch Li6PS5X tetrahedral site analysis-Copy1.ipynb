{
 "cells": [
  {
   "cell_type": "code",
   "execution_count": null,
   "metadata": {},
   "outputs": [],
   "source": [
    "from pymatgen.io.vasp import Poscar, Xdatcar\n",
    "from pymatgen.symmetry.groups import SpaceGroup\n",
    "from pymatgen import Lattice\n",
    "import numpy as np\n",
    "import operator\n",
    "from site_analysis import Atom, Analysis, ShortestDistanceSite, get_vertex_indices, AtomsTrajectory, SitesTrajectory\n",
    "from collections import Counter\n",
    "import tqdm\n",
    "from site_analysis import PolyhedralSite"
   ]
  },
  {
   "cell_type": "code",
   "execution_count": null,
   "metadata": {},
   "outputs": [],
   "source": [
    "directory = '/Users/bjm42/Documents/Work/Projects/Active Projects/argyrodites/4a-4c_disorder/data'\n",
    "structure = Poscar.from_file(f'{directory}/reference_structures/Li6PS5I_alltet_sites.POSCAR.vasp').structure"
   ]
  },
  {
   "cell_type": "code",
   "execution_count": 7,
   "metadata": {},
   "outputs": [],
   "source": [
    "from pymatgen import Structure, Lattice\n",
    "lattice = structure.lattice\n",
    "t0 = Structure.from_spacegroup(sg='F-43m', lattice=lattice, species=['P'], coords=[[0.5, 0.0, 0.0]])\n",
    "t1 = Structure.from_spacegroup(sg='F-43m', lattice=lattice, species=['Li'], coords=[[0.9, 0.9, 0.6]])\n",
    "t2 = Structure.from_spacegroup(sg='F-43m', lattice=lattice, species=['Li'], coords=[[0.25, 0.433, 0.933]])\n",
    "t3 = Structure.from_spacegroup(sg='F-43m', lattice=lattice, species=['Li'], coords=[[0.25, 0.25, 0.25]])\n",
    "t4 = Structure.from_spacegroup(sg='F-43m', lattice=lattice, species=['Li'], coords=[[0.15, 0.15, 0.15]])\n",
    "t5 = Structure.from_spacegroup(sg='F-43m', lattice=lattice, species=['Li'], coords=[[0.0, 0.183, 0.183]])\n",
    "i1 = Structure.from_spacegroup(sg='F-43m', lattice=lattice, species=['I'], coords=[[0.0, 0.0, 0.0]])\n",
    "s2 = Structure.from_spacegroup(sg='F-43m', lattice=lattice, species=['S'], coords=[[0.25, 0.25, 0.75]])\n",
    "s1 = Structure.from_spacegroup(sg='F-43m', lattice=lattice, species=['S'], coords=[[0.38368, 0.11632, 0.11632]])\n",
    "tet_sites = [t0, t1, t2, t3, t4, t5]"
   ]
  },
  {
   "cell_type": "code",
   "execution_count": 8,
   "metadata": {},
   "outputs": [],
   "source": [
    "sublattices = [ t1, t2, t3, t4, t5, i1, s2, s1 ]\n",
    "species = ['Cs', 'Na', 'Rb', 'K', 'Li', 'I', 'S', 'S']\n",
    "structure = t0\n",
    "for tet, spec in zip( sublattices, species ):\n",
    "    for s in tet:\n",
    "        structure.append(spec, coords=s.frac_coords, coords_are_cartesian=False)"
   ]
  },
  {
   "cell_type": "code",
   "execution_count": 9,
   "metadata": {},
   "outputs": [
    {
     "data": {
      "text/plain": [
       "Structure Summary\n",
       "Lattice\n",
       "    abc : 10.1413497925 10.1413497925 10.1413497925\n",
       " angles : 90.0 90.0 90.0\n",
       " volume : 1043.0071548006667\n",
       "      A : 10.1413497925 0.0 0.0\n",
       "      B : 0.0 10.1413497925 0.0\n",
       "      C : 0.0 0.0 10.1413497925\n",
       "PeriodicSite: P (5.0707, 0.0000, 0.0000) [0.5000, 0.0000, 0.0000]\n",
       "PeriodicSite: P (0.0000, 5.0707, 0.0000) [0.0000, 0.5000, 0.0000]\n",
       "PeriodicSite: P (0.0000, 0.0000, 5.0707) [0.0000, 0.0000, 0.5000]\n",
       "PeriodicSite: P (5.0707, 5.0707, 5.0707) [0.5000, 0.5000, 0.5000]\n",
       "PeriodicSite: Cs (9.1272, 9.1272, 6.0848) [0.9000, 0.9000, 0.6000]\n",
       "PeriodicSite: Cs (9.1272, 1.0141, 4.0565) [0.9000, 0.1000, 0.4000]\n",
       "PeriodicSite: Cs (1.0141, 1.0141, 6.0848) [0.1000, 0.1000, 0.6000]\n",
       "PeriodicSite: Cs (1.0141, 9.1272, 4.0565) [0.1000, 0.9000, 0.4000]\n",
       "PeriodicSite: Cs (6.0848, 9.1272, 9.1272) [0.6000, 0.9000, 0.9000]\n",
       "PeriodicSite: Cs (9.1272, 4.0565, 1.0141) [0.9000, 0.4000, 0.1000]\n",
       "PeriodicSite: Cs (4.0565, 1.0141, 9.1272) [0.4000, 0.1000, 0.9000]\n",
       "PeriodicSite: Cs (1.0141, 6.0848, 1.0141) [0.1000, 0.6000, 0.1000]\n",
       "PeriodicSite: Cs (6.0848, 1.0141, 1.0141) [0.6000, 0.1000, 0.1000]\n",
       "PeriodicSite: Cs (1.0141, 4.0565, 9.1272) [0.1000, 0.4000, 0.9000]\n",
       "PeriodicSite: Cs (4.0565, 9.1272, 1.0141) [0.4000, 0.9000, 0.1000]\n",
       "PeriodicSite: Cs (9.1272, 6.0848, 9.1272) [0.9000, 0.6000, 0.9000]\n",
       "PeriodicSite: Cs (6.0848, 4.0565, 4.0565) [0.6000, 0.4000, 0.4000]\n",
       "PeriodicSite: Cs (4.0565, 6.0848, 4.0565) [0.4000, 0.6000, 0.4000]\n",
       "PeriodicSite: Cs (6.0848, 6.0848, 6.0848) [0.6000, 0.6000, 0.6000]\n",
       "PeriodicSite: Cs (4.0565, 4.0565, 6.0848) [0.4000, 0.4000, 0.6000]\n",
       "PeriodicSite: Na (2.5353, 4.3912, 9.4619) [0.2500, 0.4330, 0.9330]\n",
       "PeriodicSite: Na (4.3912, 7.6060, 0.6795) [0.4330, 0.7500, 0.0670]\n",
       "PeriodicSite: Na (7.6060, 5.7501, 9.4619) [0.7500, 0.5670, 0.9330]\n",
       "PeriodicSite: Na (5.7501, 2.5353, 0.6795) [0.5670, 0.2500, 0.0670]\n",
       "PeriodicSite: Na (2.5353, 5.7501, 0.6795) [0.2500, 0.5670, 0.0670]\n",
       "PeriodicSite: Na (5.7501, 7.6060, 9.4619) [0.5670, 0.7500, 0.9330]\n",
       "PeriodicSite: Na (7.6060, 4.3912, 0.6795) [0.7500, 0.4330, 0.0670]\n",
       "PeriodicSite: Na (4.3912, 2.5353, 9.4619) [0.4330, 0.2500, 0.9330]\n",
       "PeriodicSite: Na (9.4619, 2.5353, 4.3912) [0.9330, 0.2500, 0.4330]\n",
       "PeriodicSite: Na (2.5353, 0.6795, 5.7501) [0.2500, 0.0670, 0.5670]\n",
       "PeriodicSite: Na (0.6795, 7.6060, 4.3912) [0.0670, 0.7500, 0.4330]\n",
       "PeriodicSite: Na (7.6060, 9.4619, 5.7501) [0.7500, 0.9330, 0.5670]\n",
       "PeriodicSite: Na (9.4619, 7.6060, 5.7501) [0.9330, 0.7500, 0.5670]\n",
       "PeriodicSite: Na (7.6060, 0.6795, 4.3912) [0.7500, 0.0670, 0.4330]\n",
       "PeriodicSite: Na (0.6795, 2.5353, 5.7501) [0.0670, 0.2500, 0.5670]\n",
       "PeriodicSite: Na (2.5353, 9.4619, 4.3912) [0.2500, 0.9330, 0.4330]\n",
       "PeriodicSite: Na (4.3912, 9.4619, 2.5353) [0.4330, 0.9330, 0.2500]\n",
       "PeriodicSite: Na (4.3912, 0.6795, 7.6060) [0.4330, 0.0670, 0.7500]\n",
       "PeriodicSite: Na (0.6795, 5.7501, 2.5353) [0.0670, 0.5670, 0.2500]\n",
       "PeriodicSite: Na (5.7501, 9.4619, 7.6060) [0.5670, 0.9330, 0.7500]\n",
       "PeriodicSite: Na (9.4619, 4.3912, 2.5353) [0.9330, 0.4330, 0.2500]\n",
       "PeriodicSite: Na (5.7501, 0.6795, 2.5353) [0.5670, 0.0670, 0.2500]\n",
       "PeriodicSite: Na (0.6795, 4.3912, 7.6060) [0.0670, 0.4330, 0.7500]\n",
       "PeriodicSite: Na (9.4619, 5.7501, 7.6060) [0.9330, 0.5670, 0.7500]\n",
       "PeriodicSite: Na (4.3912, 2.5353, 5.7501) [0.4330, 0.2500, 0.5670]\n",
       "PeriodicSite: Na (5.7501, 7.6060, 5.7501) [0.5670, 0.7500, 0.5670]\n",
       "PeriodicSite: Na (5.7501, 2.5353, 4.3912) [0.5670, 0.2500, 0.4330]\n",
       "PeriodicSite: Na (4.3912, 7.6060, 4.3912) [0.4330, 0.7500, 0.4330]\n",
       "PeriodicSite: Na (9.4619, 7.6060, 9.4619) [0.9330, 0.7500, 0.9330]\n",
       "PeriodicSite: Na (0.6795, 2.5353, 9.4619) [0.0670, 0.2500, 0.9330]\n",
       "PeriodicSite: Na (9.4619, 2.5353, 0.6795) [0.9330, 0.2500, 0.0670]\n",
       "PeriodicSite: Na (0.6795, 7.6060, 0.6795) [0.0670, 0.7500, 0.0670]\n",
       "PeriodicSite: Na (4.3912, 4.3912, 7.6060) [0.4330, 0.4330, 0.7500]\n",
       "PeriodicSite: Na (4.3912, 5.7501, 2.5353) [0.4330, 0.5670, 0.2500]\n",
       "PeriodicSite: Na (0.6795, 0.6795, 7.6060) [0.0670, 0.0670, 0.7500]\n",
       "PeriodicSite: Na (5.7501, 4.3912, 2.5353) [0.5670, 0.4330, 0.2500]\n",
       "PeriodicSite: Na (9.4619, 9.4619, 7.6060) [0.9330, 0.9330, 0.7500]\n",
       "PeriodicSite: Na (5.7501, 5.7501, 7.6060) [0.5670, 0.5670, 0.7500]\n",
       "PeriodicSite: Na (0.6795, 9.4619, 2.5353) [0.0670, 0.9330, 0.2500]\n",
       "PeriodicSite: Na (9.4619, 0.6795, 2.5353) [0.9330, 0.0670, 0.2500]\n",
       "PeriodicSite: Na (7.6060, 4.3912, 4.3912) [0.7500, 0.4330, 0.4330]\n",
       "PeriodicSite: Na (2.5353, 5.7501, 4.3912) [0.2500, 0.5670, 0.4330]\n",
       "PeriodicSite: Na (7.6060, 5.7501, 5.7501) [0.7500, 0.5670, 0.5670]\n",
       "PeriodicSite: Na (2.5353, 4.3912, 5.7501) [0.2500, 0.4330, 0.5670]\n",
       "PeriodicSite: Na (7.6060, 0.6795, 0.6795) [0.7500, 0.0670, 0.0670]\n",
       "PeriodicSite: Na (2.5353, 9.4619, 0.6795) [0.2500, 0.9330, 0.0670]\n",
       "PeriodicSite: Na (2.5353, 0.6795, 9.4619) [0.2500, 0.0670, 0.9330]\n",
       "PeriodicSite: Na (7.6060, 9.4619, 9.4619) [0.7500, 0.9330, 0.9330]\n",
       "PeriodicSite: Rb (2.5353, 2.5353, 2.5353) [0.2500, 0.2500, 0.2500]\n",
       "PeriodicSite: Rb (2.5353, 7.6060, 7.6060) [0.2500, 0.7500, 0.7500]\n",
       "PeriodicSite: Rb (7.6060, 7.6060, 2.5353) [0.7500, 0.7500, 0.2500]\n",
       "PeriodicSite: Rb (7.6060, 2.5353, 7.6060) [0.7500, 0.2500, 0.7500]\n",
       "PeriodicSite: K (1.5212, 1.5212, 1.5212) [0.1500, 0.1500, 0.1500]\n",
       "PeriodicSite: K (1.5212, 8.6201, 8.6201) [0.1500, 0.8500, 0.8500]\n",
       "PeriodicSite: K (8.6201, 8.6201, 1.5212) [0.8500, 0.8500, 0.1500]\n",
       "PeriodicSite: K (8.6201, 1.5212, 8.6201) [0.8500, 0.1500, 0.8500]\n",
       "PeriodicSite: K (1.5212, 6.5919, 6.5919) [0.1500, 0.6500, 0.6500]\n",
       "PeriodicSite: K (1.5212, 3.5495, 3.5495) [0.1500, 0.3500, 0.3500]\n",
       "PeriodicSite: K (8.6201, 3.5495, 6.5919) [0.8500, 0.3500, 0.6500]\n",
       "PeriodicSite: K (8.6201, 6.5919, 3.5495) [0.8500, 0.6500, 0.3500]\n",
       "PeriodicSite: K (6.5919, 1.5212, 6.5919) [0.6500, 0.1500, 0.6500]\n",
       "PeriodicSite: K (6.5919, 8.6201, 3.5495) [0.6500, 0.8500, 0.3500]\n",
       "PeriodicSite: K (3.5495, 8.6201, 6.5919) [0.3500, 0.8500, 0.6500]\n",
       "PeriodicSite: K (3.5495, 1.5212, 3.5495) [0.3500, 0.1500, 0.3500]\n",
       "PeriodicSite: K (6.5919, 6.5919, 1.5212) [0.6500, 0.6500, 0.1500]\n",
       "PeriodicSite: K (6.5919, 3.5495, 8.6201) [0.6500, 0.3500, 0.8500]\n",
       "PeriodicSite: K (3.5495, 3.5495, 1.5212) [0.3500, 0.3500, 0.1500]\n",
       "PeriodicSite: K (3.5495, 6.5919, 8.6201) [0.3500, 0.6500, 0.8500]\n",
       "PeriodicSite: Li (0.0000, 1.8559, 1.8559) [0.0000, 0.1830, 0.1830]\n",
       "PeriodicSite: Li (1.8559, 0.0000, 8.2855) [0.1830, 0.0000, 0.8170]\n",
       "PeriodicSite: Li (0.0000, 8.2855, 1.8559) [0.0000, 0.8170, 0.1830]\n",
       "PeriodicSite: Li (8.2855, 0.0000, 8.2855) [0.8170, 0.0000, 0.8170]\n",
       "PeriodicSite: Li (0.0000, 8.2855, 8.2855) [0.0000, 0.8170, 0.8170]\n",
       "PeriodicSite: Li (8.2855, 0.0000, 1.8559) [0.8170, 0.0000, 0.1830]\n",
       "PeriodicSite: Li (0.0000, 1.8559, 8.2855) [0.0000, 0.1830, 0.8170]\n",
       "PeriodicSite: Li (1.8559, 0.0000, 1.8559) [0.1830, 0.0000, 0.1830]\n",
       "PeriodicSite: Li (1.8559, 1.8559, 0.0000) [0.1830, 0.1830, 0.0000]\n",
       "PeriodicSite: Li (1.8559, 8.2855, 0.0000) [0.1830, 0.8170, 0.0000]\n",
       "PeriodicSite: Li (8.2855, 8.2855, 0.0000) [0.8170, 0.8170, 0.0000]\n",
       "PeriodicSite: Li (8.2855, 1.8559, 0.0000) [0.8170, 0.1830, 0.0000]\n",
       "PeriodicSite: Li (0.0000, 6.9265, 6.9265) [0.0000, 0.6830, 0.6830]\n",
       "PeriodicSite: Li (1.8559, 5.0707, 3.2148) [0.1830, 0.5000, 0.3170]\n",
       "PeriodicSite: Li (0.0000, 3.2148, 6.9265) [0.0000, 0.3170, 0.6830]\n",
       "PeriodicSite: Li (8.2855, 5.0707, 3.2148) [0.8170, 0.5000, 0.3170]\n",
       "PeriodicSite: Li (0.0000, 3.2148, 3.2148) [0.0000, 0.3170, 0.3170]\n",
       "PeriodicSite: Li (8.2855, 5.0707, 6.9265) [0.8170, 0.5000, 0.6830]\n",
       "PeriodicSite: Li (0.0000, 6.9265, 3.2148) [0.0000, 0.6830, 0.3170]\n",
       "PeriodicSite: Li (1.8559, 5.0707, 6.9265) [0.1830, 0.5000, 0.6830]\n",
       "PeriodicSite: Li (1.8559, 6.9265, 5.0707) [0.1830, 0.6830, 0.5000]\n",
       "PeriodicSite: Li (1.8559, 3.2148, 5.0707) [0.1830, 0.3170, 0.5000]\n",
       "PeriodicSite: Li (8.2855, 3.2148, 5.0707) [0.8170, 0.3170, 0.5000]\n",
       "PeriodicSite: Li (8.2855, 6.9265, 5.0707) [0.8170, 0.6830, 0.5000]\n",
       "PeriodicSite: Li (5.0707, 1.8559, 6.9265) [0.5000, 0.1830, 0.6830]\n",
       "PeriodicSite: Li (6.9265, 0.0000, 3.2148) [0.6830, 0.0000, 0.3170]\n",
       "PeriodicSite: Li (5.0707, 8.2855, 6.9265) [0.5000, 0.8170, 0.6830]\n",
       "PeriodicSite: Li (3.2148, 0.0000, 3.2148) [0.3170, 0.0000, 0.3170]\n",
       "PeriodicSite: Li (5.0707, 8.2855, 3.2148) [0.5000, 0.8170, 0.3170]\n",
       "PeriodicSite: Li (3.2148, 0.0000, 6.9265) [0.3170, 0.0000, 0.6830]\n",
       "PeriodicSite: Li (5.0707, 1.8559, 3.2148) [0.5000, 0.1830, 0.3170]\n",
       "PeriodicSite: Li (6.9265, 0.0000, 6.9265) [0.6830, 0.0000, 0.6830]\n",
       "PeriodicSite: Li (6.9265, 1.8559, 5.0707) [0.6830, 0.1830, 0.5000]\n",
       "PeriodicSite: Li (6.9265, 8.2855, 5.0707) [0.6830, 0.8170, 0.5000]\n",
       "PeriodicSite: Li (3.2148, 8.2855, 5.0707) [0.3170, 0.8170, 0.5000]\n",
       "PeriodicSite: Li (3.2148, 1.8559, 5.0707) [0.3170, 0.1830, 0.5000]\n",
       "PeriodicSite: Li (5.0707, 6.9265, 1.8559) [0.5000, 0.6830, 0.1830]\n",
       "PeriodicSite: Li (6.9265, 5.0707, 8.2855) [0.6830, 0.5000, 0.8170]\n",
       "PeriodicSite: Li (5.0707, 3.2148, 1.8559) [0.5000, 0.3170, 0.1830]\n",
       "PeriodicSite: Li (3.2148, 5.0707, 8.2855) [0.3170, 0.5000, 0.8170]\n",
       "PeriodicSite: Li (5.0707, 3.2148, 8.2855) [0.5000, 0.3170, 0.8170]\n",
       "PeriodicSite: Li (3.2148, 5.0707, 1.8559) [0.3170, 0.5000, 0.1830]\n",
       "PeriodicSite: Li (5.0707, 6.9265, 8.2855) [0.5000, 0.6830, 0.8170]\n",
       "PeriodicSite: Li (6.9265, 5.0707, 1.8559) [0.6830, 0.5000, 0.1830]\n",
       "PeriodicSite: Li (6.9265, 6.9265, 0.0000) [0.6830, 0.6830, 0.0000]\n",
       "PeriodicSite: Li (6.9265, 3.2148, 0.0000) [0.6830, 0.3170, 0.0000]\n",
       "PeriodicSite: Li (3.2148, 3.2148, 0.0000) [0.3170, 0.3170, 0.0000]\n",
       "PeriodicSite: Li (3.2148, 6.9265, 0.0000) [0.3170, 0.6830, 0.0000]\n",
       "PeriodicSite: I (0.0000, 0.0000, 0.0000) [0.0000, 0.0000, 0.0000]\n",
       "PeriodicSite: I (0.0000, 5.0707, 5.0707) [0.0000, 0.5000, 0.5000]\n",
       "PeriodicSite: I (5.0707, 0.0000, 5.0707) [0.5000, 0.0000, 0.5000]\n",
       "PeriodicSite: I (5.0707, 5.0707, 0.0000) [0.5000, 0.5000, 0.0000]\n",
       "PeriodicSite: S (2.5353, 2.5353, 7.6060) [0.2500, 0.2500, 0.7500]\n",
       "PeriodicSite: S (2.5353, 7.6060, 2.5353) [0.2500, 0.7500, 0.2500]\n",
       "PeriodicSite: S (7.6060, 7.6060, 7.6060) [0.7500, 0.7500, 0.7500]\n",
       "PeriodicSite: S (7.6060, 2.5353, 2.5353) [0.7500, 0.2500, 0.2500]\n",
       "PeriodicSite: S (3.8910, 1.1796, 1.1796) [0.3837, 0.1163, 0.1163]\n",
       "PeriodicSite: S (1.1796, 6.2503, 8.9617) [0.1163, 0.6163, 0.8837]\n",
       "PeriodicSite: S (6.2503, 8.9617, 1.1796) [0.6163, 0.8837, 0.1163]\n",
       "PeriodicSite: S (8.9617, 3.8910, 8.9617) [0.8837, 0.3837, 0.8837]\n",
       "PeriodicSite: S (3.8910, 8.9617, 8.9617) [0.3837, 0.8837, 0.8837]\n",
       "PeriodicSite: S (8.9617, 6.2503, 1.1796) [0.8837, 0.6163, 0.1163]\n",
       "PeriodicSite: S (6.2503, 1.1796, 8.9617) [0.6163, 0.1163, 0.8837]\n",
       "PeriodicSite: S (1.1796, 3.8910, 1.1796) [0.1163, 0.3837, 0.1163]\n",
       "PeriodicSite: S (1.1796, 1.1796, 3.8910) [0.1163, 0.1163, 0.3837]\n",
       "PeriodicSite: S (1.1796, 8.9617, 6.2503) [0.1163, 0.8837, 0.6163]\n",
       "PeriodicSite: S (8.9617, 8.9617, 3.8910) [0.8837, 0.8837, 0.3837]\n",
       "PeriodicSite: S (8.9617, 1.1796, 6.2503) [0.8837, 0.1163, 0.6163]\n",
       "PeriodicSite: S (3.8910, 6.2503, 6.2503) [0.3837, 0.6163, 0.6163]\n",
       "PeriodicSite: S (6.2503, 3.8910, 6.2503) [0.6163, 0.3837, 0.6163]\n",
       "PeriodicSite: S (3.8910, 3.8910, 3.8910) [0.3837, 0.3837, 0.3837]\n",
       "PeriodicSite: S (6.2503, 6.2503, 3.8910) [0.6163, 0.6163, 0.3837]"
      ]
     },
     "execution_count": 9,
     "metadata": {},
     "output_type": "execute_result"
    }
   ],
   "source": [
    "structure"
   ]
  },
  {
   "cell_type": "code",
   "execution_count": 10,
   "metadata": {},
   "outputs": [
    {
     "data": {
      "text/plain": [
       "Structure Summary\n",
       "Lattice\n",
       "    abc : 10.1413497925 10.1413497925 10.1413497925\n",
       " angles : 90.0 90.0 90.0\n",
       " volume : 1043.0071548006667\n",
       "      A : 10.1413497925 0.0 0.0\n",
       "      B : 0.0 10.1413497925 0.0\n",
       "      C : 0.0 0.0 10.1413497925\n",
       "PeriodicSite: P (5.0707, 0.0000, 0.0000) [0.5000, 0.0000, 0.0000]\n",
       "PeriodicSite: P (0.0000, 5.0707, 0.0000) [0.0000, 0.5000, 0.0000]\n",
       "PeriodicSite: P (0.0000, 0.0000, 5.0707) [0.0000, 0.0000, 0.5000]\n",
       "PeriodicSite: P (5.0707, 5.0707, 5.0707) [0.5000, 0.5000, 0.5000]\n",
       "PeriodicSite: Cs (9.1272, 9.1272, 6.0848) [0.9000, 0.9000, 0.6000]\n",
       "PeriodicSite: Cs (9.1272, 1.0141, 4.0565) [0.9000, 0.1000, 0.4000]\n",
       "PeriodicSite: Cs (1.0141, 1.0141, 6.0848) [0.1000, 0.1000, 0.6000]\n",
       "PeriodicSite: Cs (1.0141, 9.1272, 4.0565) [0.1000, 0.9000, 0.4000]\n",
       "PeriodicSite: Cs (6.0848, 9.1272, 9.1272) [0.6000, 0.9000, 0.9000]\n",
       "PeriodicSite: Cs (9.1272, 4.0565, 1.0141) [0.9000, 0.4000, 0.1000]\n",
       "PeriodicSite: Cs (4.0565, 1.0141, 9.1272) [0.4000, 0.1000, 0.9000]\n",
       "PeriodicSite: Cs (1.0141, 6.0848, 1.0141) [0.1000, 0.6000, 0.1000]\n",
       "PeriodicSite: Cs (6.0848, 1.0141, 1.0141) [0.6000, 0.1000, 0.1000]\n",
       "PeriodicSite: Cs (1.0141, 4.0565, 9.1272) [0.1000, 0.4000, 0.9000]\n",
       "PeriodicSite: Cs (4.0565, 9.1272, 1.0141) [0.4000, 0.9000, 0.1000]\n",
       "PeriodicSite: Cs (9.1272, 6.0848, 9.1272) [0.9000, 0.6000, 0.9000]\n",
       "PeriodicSite: Cs (6.0848, 4.0565, 4.0565) [0.6000, 0.4000, 0.4000]\n",
       "PeriodicSite: Cs (4.0565, 6.0848, 4.0565) [0.4000, 0.6000, 0.4000]\n",
       "PeriodicSite: Cs (6.0848, 6.0848, 6.0848) [0.6000, 0.6000, 0.6000]\n",
       "PeriodicSite: Cs (4.0565, 4.0565, 6.0848) [0.4000, 0.4000, 0.6000]\n",
       "PeriodicSite: Na (2.5353, 4.3912, 9.4619) [0.2500, 0.4330, 0.9330]\n",
       "PeriodicSite: Na (4.3912, 7.6060, 0.6795) [0.4330, 0.7500, 0.0670]\n",
       "PeriodicSite: Na (7.6060, 5.7501, 9.4619) [0.7500, 0.5670, 0.9330]\n",
       "PeriodicSite: Na (5.7501, 2.5353, 0.6795) [0.5670, 0.2500, 0.0670]\n",
       "PeriodicSite: Na (2.5353, 5.7501, 0.6795) [0.2500, 0.5670, 0.0670]\n",
       "PeriodicSite: Na (5.7501, 7.6060, 9.4619) [0.5670, 0.7500, 0.9330]\n",
       "PeriodicSite: Na (7.6060, 4.3912, 0.6795) [0.7500, 0.4330, 0.0670]\n",
       "PeriodicSite: Na (4.3912, 2.5353, 9.4619) [0.4330, 0.2500, 0.9330]\n",
       "PeriodicSite: Na (9.4619, 2.5353, 4.3912) [0.9330, 0.2500, 0.4330]\n",
       "PeriodicSite: Na (2.5353, 0.6795, 5.7501) [0.2500, 0.0670, 0.5670]\n",
       "PeriodicSite: Na (0.6795, 7.6060, 4.3912) [0.0670, 0.7500, 0.4330]\n",
       "PeriodicSite: Na (7.6060, 9.4619, 5.7501) [0.7500, 0.9330, 0.5670]\n",
       "PeriodicSite: Na (9.4619, 7.6060, 5.7501) [0.9330, 0.7500, 0.5670]\n",
       "PeriodicSite: Na (7.6060, 0.6795, 4.3912) [0.7500, 0.0670, 0.4330]\n",
       "PeriodicSite: Na (0.6795, 2.5353, 5.7501) [0.0670, 0.2500, 0.5670]\n",
       "PeriodicSite: Na (2.5353, 9.4619, 4.3912) [0.2500, 0.9330, 0.4330]\n",
       "PeriodicSite: Na (4.3912, 9.4619, 2.5353) [0.4330, 0.9330, 0.2500]\n",
       "PeriodicSite: Na (4.3912, 0.6795, 7.6060) [0.4330, 0.0670, 0.7500]\n",
       "PeriodicSite: Na (0.6795, 5.7501, 2.5353) [0.0670, 0.5670, 0.2500]\n",
       "PeriodicSite: Na (5.7501, 9.4619, 7.6060) [0.5670, 0.9330, 0.7500]\n",
       "PeriodicSite: Na (9.4619, 4.3912, 2.5353) [0.9330, 0.4330, 0.2500]\n",
       "PeriodicSite: Na (5.7501, 0.6795, 2.5353) [0.5670, 0.0670, 0.2500]\n",
       "PeriodicSite: Na (0.6795, 4.3912, 7.6060) [0.0670, 0.4330, 0.7500]\n",
       "PeriodicSite: Na (9.4619, 5.7501, 7.6060) [0.9330, 0.5670, 0.7500]\n",
       "PeriodicSite: Na (4.3912, 2.5353, 5.7501) [0.4330, 0.2500, 0.5670]\n",
       "PeriodicSite: Na (5.7501, 7.6060, 5.7501) [0.5670, 0.7500, 0.5670]\n",
       "PeriodicSite: Na (5.7501, 2.5353, 4.3912) [0.5670, 0.2500, 0.4330]\n",
       "PeriodicSite: Na (4.3912, 7.6060, 4.3912) [0.4330, 0.7500, 0.4330]\n",
       "PeriodicSite: Na (9.4619, 7.6060, 9.4619) [0.9330, 0.7500, 0.9330]\n",
       "PeriodicSite: Na (0.6795, 2.5353, 9.4619) [0.0670, 0.2500, 0.9330]\n",
       "PeriodicSite: Na (9.4619, 2.5353, 0.6795) [0.9330, 0.2500, 0.0670]\n",
       "PeriodicSite: Na (0.6795, 7.6060, 0.6795) [0.0670, 0.7500, 0.0670]\n",
       "PeriodicSite: Na (4.3912, 4.3912, 7.6060) [0.4330, 0.4330, 0.7500]\n",
       "PeriodicSite: Na (4.3912, 5.7501, 2.5353) [0.4330, 0.5670, 0.2500]\n",
       "PeriodicSite: Na (0.6795, 0.6795, 7.6060) [0.0670, 0.0670, 0.7500]\n",
       "PeriodicSite: Na (5.7501, 4.3912, 2.5353) [0.5670, 0.4330, 0.2500]\n",
       "PeriodicSite: Na (9.4619, 9.4619, 7.6060) [0.9330, 0.9330, 0.7500]\n",
       "PeriodicSite: Na (5.7501, 5.7501, 7.6060) [0.5670, 0.5670, 0.7500]\n",
       "PeriodicSite: Na (0.6795, 9.4619, 2.5353) [0.0670, 0.9330, 0.2500]\n",
       "PeriodicSite: Na (9.4619, 0.6795, 2.5353) [0.9330, 0.0670, 0.2500]\n",
       "PeriodicSite: Na (7.6060, 4.3912, 4.3912) [0.7500, 0.4330, 0.4330]\n",
       "PeriodicSite: Na (2.5353, 5.7501, 4.3912) [0.2500, 0.5670, 0.4330]\n",
       "PeriodicSite: Na (7.6060, 5.7501, 5.7501) [0.7500, 0.5670, 0.5670]\n",
       "PeriodicSite: Na (2.5353, 4.3912, 5.7501) [0.2500, 0.4330, 0.5670]\n",
       "PeriodicSite: Na (7.6060, 0.6795, 0.6795) [0.7500, 0.0670, 0.0670]\n",
       "PeriodicSite: Na (2.5353, 9.4619, 0.6795) [0.2500, 0.9330, 0.0670]\n",
       "PeriodicSite: Na (2.5353, 0.6795, 9.4619) [0.2500, 0.0670, 0.9330]\n",
       "PeriodicSite: Na (7.6060, 9.4619, 9.4619) [0.7500, 0.9330, 0.9330]\n",
       "PeriodicSite: Rb (2.5353, 2.5353, 2.5353) [0.2500, 0.2500, 0.2500]\n",
       "PeriodicSite: Rb (2.5353, 7.6060, 7.6060) [0.2500, 0.7500, 0.7500]\n",
       "PeriodicSite: Rb (7.6060, 7.6060, 2.5353) [0.7500, 0.7500, 0.2500]\n",
       "PeriodicSite: Rb (7.6060, 2.5353, 7.6060) [0.7500, 0.2500, 0.7500]\n",
       "PeriodicSite: K (1.5212, 1.5212, 1.5212) [0.1500, 0.1500, 0.1500]\n",
       "PeriodicSite: K (1.5212, 8.6201, 8.6201) [0.1500, 0.8500, 0.8500]\n",
       "PeriodicSite: K (8.6201, 8.6201, 1.5212) [0.8500, 0.8500, 0.1500]\n",
       "PeriodicSite: K (8.6201, 1.5212, 8.6201) [0.8500, 0.1500, 0.8500]\n",
       "PeriodicSite: K (1.5212, 6.5919, 6.5919) [0.1500, 0.6500, 0.6500]\n",
       "PeriodicSite: K (1.5212, 3.5495, 3.5495) [0.1500, 0.3500, 0.3500]\n",
       "PeriodicSite: K (8.6201, 3.5495, 6.5919) [0.8500, 0.3500, 0.6500]\n",
       "PeriodicSite: K (8.6201, 6.5919, 3.5495) [0.8500, 0.6500, 0.3500]\n",
       "PeriodicSite: K (6.5919, 1.5212, 6.5919) [0.6500, 0.1500, 0.6500]\n",
       "PeriodicSite: K (6.5919, 8.6201, 3.5495) [0.6500, 0.8500, 0.3500]\n",
       "PeriodicSite: K (3.5495, 8.6201, 6.5919) [0.3500, 0.8500, 0.6500]\n",
       "PeriodicSite: K (3.5495, 1.5212, 3.5495) [0.3500, 0.1500, 0.3500]\n",
       "PeriodicSite: K (6.5919, 6.5919, 1.5212) [0.6500, 0.6500, 0.1500]\n",
       "PeriodicSite: K (6.5919, 3.5495, 8.6201) [0.6500, 0.3500, 0.8500]\n",
       "PeriodicSite: K (3.5495, 3.5495, 1.5212) [0.3500, 0.3500, 0.1500]\n",
       "PeriodicSite: K (3.5495, 6.5919, 8.6201) [0.3500, 0.6500, 0.8500]\n",
       "PeriodicSite: Li (0.0000, 1.8559, 1.8559) [0.0000, 0.1830, 0.1830]\n",
       "PeriodicSite: Li (1.8559, 0.0000, 8.2855) [0.1830, 0.0000, 0.8170]\n",
       "PeriodicSite: Li (0.0000, 8.2855, 1.8559) [0.0000, 0.8170, 0.1830]\n",
       "PeriodicSite: Li (8.2855, 0.0000, 8.2855) [0.8170, 0.0000, 0.8170]\n",
       "PeriodicSite: Li (0.0000, 8.2855, 8.2855) [0.0000, 0.8170, 0.8170]\n",
       "PeriodicSite: Li (8.2855, 0.0000, 1.8559) [0.8170, 0.0000, 0.1830]\n",
       "PeriodicSite: Li (0.0000, 1.8559, 8.2855) [0.0000, 0.1830, 0.8170]\n",
       "PeriodicSite: Li (1.8559, 0.0000, 1.8559) [0.1830, 0.0000, 0.1830]\n",
       "PeriodicSite: Li (1.8559, 1.8559, 0.0000) [0.1830, 0.1830, 0.0000]\n",
       "PeriodicSite: Li (1.8559, 8.2855, 0.0000) [0.1830, 0.8170, 0.0000]\n",
       "PeriodicSite: Li (8.2855, 8.2855, 0.0000) [0.8170, 0.8170, 0.0000]\n",
       "PeriodicSite: Li (8.2855, 1.8559, 0.0000) [0.8170, 0.1830, 0.0000]\n",
       "PeriodicSite: Li (0.0000, 6.9265, 6.9265) [0.0000, 0.6830, 0.6830]\n",
       "PeriodicSite: Li (1.8559, 5.0707, 3.2148) [0.1830, 0.5000, 0.3170]\n",
       "PeriodicSite: Li (0.0000, 3.2148, 6.9265) [0.0000, 0.3170, 0.6830]\n",
       "PeriodicSite: Li (8.2855, 5.0707, 3.2148) [0.8170, 0.5000, 0.3170]\n",
       "PeriodicSite: Li (0.0000, 3.2148, 3.2148) [0.0000, 0.3170, 0.3170]\n",
       "PeriodicSite: Li (8.2855, 5.0707, 6.9265) [0.8170, 0.5000, 0.6830]\n",
       "PeriodicSite: Li (0.0000, 6.9265, 3.2148) [0.0000, 0.6830, 0.3170]\n",
       "PeriodicSite: Li (1.8559, 5.0707, 6.9265) [0.1830, 0.5000, 0.6830]\n",
       "PeriodicSite: Li (1.8559, 6.9265, 5.0707) [0.1830, 0.6830, 0.5000]\n",
       "PeriodicSite: Li (1.8559, 3.2148, 5.0707) [0.1830, 0.3170, 0.5000]\n",
       "PeriodicSite: Li (8.2855, 3.2148, 5.0707) [0.8170, 0.3170, 0.5000]\n",
       "PeriodicSite: Li (8.2855, 6.9265, 5.0707) [0.8170, 0.6830, 0.5000]\n",
       "PeriodicSite: Li (5.0707, 1.8559, 6.9265) [0.5000, 0.1830, 0.6830]\n",
       "PeriodicSite: Li (6.9265, 0.0000, 3.2148) [0.6830, 0.0000, 0.3170]\n",
       "PeriodicSite: Li (5.0707, 8.2855, 6.9265) [0.5000, 0.8170, 0.6830]\n",
       "PeriodicSite: Li (3.2148, 0.0000, 3.2148) [0.3170, 0.0000, 0.3170]\n",
       "PeriodicSite: Li (5.0707, 8.2855, 3.2148) [0.5000, 0.8170, 0.3170]\n",
       "PeriodicSite: Li (3.2148, 0.0000, 6.9265) [0.3170, 0.0000, 0.6830]\n",
       "PeriodicSite: Li (5.0707, 1.8559, 3.2148) [0.5000, 0.1830, 0.3170]\n",
       "PeriodicSite: Li (6.9265, 0.0000, 6.9265) [0.6830, 0.0000, 0.6830]\n",
       "PeriodicSite: Li (6.9265, 1.8559, 5.0707) [0.6830, 0.1830, 0.5000]\n",
       "PeriodicSite: Li (6.9265, 8.2855, 5.0707) [0.6830, 0.8170, 0.5000]\n",
       "PeriodicSite: Li (3.2148, 8.2855, 5.0707) [0.3170, 0.8170, 0.5000]\n",
       "PeriodicSite: Li (3.2148, 1.8559, 5.0707) [0.3170, 0.1830, 0.5000]\n",
       "PeriodicSite: Li (5.0707, 6.9265, 1.8559) [0.5000, 0.6830, 0.1830]\n",
       "PeriodicSite: Li (6.9265, 5.0707, 8.2855) [0.6830, 0.5000, 0.8170]\n",
       "PeriodicSite: Li (5.0707, 3.2148, 1.8559) [0.5000, 0.3170, 0.1830]\n",
       "PeriodicSite: Li (3.2148, 5.0707, 8.2855) [0.3170, 0.5000, 0.8170]\n",
       "PeriodicSite: Li (5.0707, 3.2148, 8.2855) [0.5000, 0.3170, 0.8170]\n",
       "PeriodicSite: Li (3.2148, 5.0707, 1.8559) [0.3170, 0.5000, 0.1830]\n",
       "PeriodicSite: Li (5.0707, 6.9265, 8.2855) [0.5000, 0.6830, 0.8170]\n",
       "PeriodicSite: Li (6.9265, 5.0707, 1.8559) [0.6830, 0.5000, 0.1830]\n",
       "PeriodicSite: Li (6.9265, 6.9265, 0.0000) [0.6830, 0.6830, 0.0000]\n",
       "PeriodicSite: Li (6.9265, 3.2148, 0.0000) [0.6830, 0.3170, 0.0000]\n",
       "PeriodicSite: Li (3.2148, 3.2148, 0.0000) [0.3170, 0.3170, 0.0000]\n",
       "PeriodicSite: Li (3.2148, 6.9265, 0.0000) [0.3170, 0.6830, 0.0000]\n",
       "PeriodicSite: I (0.0000, 0.0000, 0.0000) [0.0000, 0.0000, 0.0000]\n",
       "PeriodicSite: I (0.0000, 5.0707, 5.0707) [0.0000, 0.5000, 0.5000]\n",
       "PeriodicSite: I (5.0707, 0.0000, 5.0707) [0.5000, 0.0000, 0.5000]\n",
       "PeriodicSite: I (5.0707, 5.0707, 0.0000) [0.5000, 0.5000, 0.0000]\n",
       "PeriodicSite: S (2.5353, 2.5353, 7.6060) [0.2500, 0.2500, 0.7500]\n",
       "PeriodicSite: S (2.5353, 7.6060, 2.5353) [0.2500, 0.7500, 0.2500]\n",
       "PeriodicSite: S (7.6060, 7.6060, 7.6060) [0.7500, 0.7500, 0.7500]\n",
       "PeriodicSite: S (7.6060, 2.5353, 2.5353) [0.7500, 0.2500, 0.2500]\n",
       "PeriodicSite: S (3.8910, 1.1796, 1.1796) [0.3837, 0.1163, 0.1163]\n",
       "PeriodicSite: S (1.1796, 6.2503, 8.9617) [0.1163, 0.6163, 0.8837]\n",
       "PeriodicSite: S (6.2503, 8.9617, 1.1796) [0.6163, 0.8837, 0.1163]\n",
       "PeriodicSite: S (8.9617, 3.8910, 8.9617) [0.8837, 0.3837, 0.8837]\n",
       "PeriodicSite: S (3.8910, 8.9617, 8.9617) [0.3837, 0.8837, 0.8837]\n",
       "PeriodicSite: S (8.9617, 6.2503, 1.1796) [0.8837, 0.6163, 0.1163]\n",
       "PeriodicSite: S (6.2503, 1.1796, 8.9617) [0.6163, 0.1163, 0.8837]\n",
       "PeriodicSite: S (1.1796, 3.8910, 1.1796) [0.1163, 0.3837, 0.1163]\n",
       "PeriodicSite: S (1.1796, 1.1796, 3.8910) [0.1163, 0.1163, 0.3837]\n",
       "PeriodicSite: S (1.1796, 8.9617, 6.2503) [0.1163, 0.8837, 0.6163]\n",
       "PeriodicSite: S (8.9617, 8.9617, 3.8910) [0.8837, 0.8837, 0.3837]\n",
       "PeriodicSite: S (8.9617, 1.1796, 6.2503) [0.8837, 0.1163, 0.6163]\n",
       "PeriodicSite: S (3.8910, 6.2503, 6.2503) [0.3837, 0.6163, 0.6163]\n",
       "PeriodicSite: S (6.2503, 3.8910, 6.2503) [0.6163, 0.3837, 0.6163]\n",
       "PeriodicSite: S (3.8910, 3.8910, 3.8910) [0.3837, 0.3837, 0.3837]\n",
       "PeriodicSite: S (6.2503, 6.2503, 3.8910) [0.6163, 0.6163, 0.3837]"
      ]
     },
     "execution_count": 10,
     "metadata": {},
     "output_type": "execute_result"
    }
   ],
   "source": [
    "structure"
   ]
  },
  {
   "cell_type": "code",
   "execution_count": 11,
   "metadata": {},
   "outputs": [],
   "source": [
    "structure.to(filename=\"test.POSCAR\")"
   ]
  },
  {
   "cell_type": "code",
   "execution_count": null,
   "metadata": {},
   "outputs": [],
   "source": [
    "anion_sites = [ s for s in md_structure if s.species_string in ['S', 'I'] ]\n",
    "struc = Structure.from_sites(anion_sites)\n",
    "for s in t0_sites:\n",
    "    s.get_vertex_coords(structure=md_structure)\n",
    "    struc.append('P', coords=s.centre(), coords_are_cartesian=False)\n",
    "for s in t1_sites:\n",
    "    s.get_vertex_coords(structure=md_structure)\n",
    "    struc.append('Rb', coords=s.centre(), coords_are_cartesian=False)\n",
    "for s in t2_sites:\n",
    "    s.get_vertex_coords(structure=md_structure)\n",
    "    struc.append('Na', coords=s.centre(), coords_are_cartesian=False)\n",
    "for s in t3_sites:\n",
    "    s.get_vertex_coords(structure=md_structure)\n",
    "    struc.append('Cs', coords=s.centre(), coords_are_cartesian=False)\n",
    "for s in t4_sites:\n",
    "    s.get_vertex_coords(structure=md_structure)\n",
    "    struc.append('K', coords=s.centre(), coords_are_cartesian=False)\n",
    "for s in t5_sites:\n",
    "    s.get_vertex_coords(structure=md_structure)\n",
    "    struc.append('Li', coords=s.centre(), coords_are_cartesian=False)\n",
    "struc.to(filename='test.POSCAR')   "
   ]
  },
  {
   "cell_type": "code",
   "execution_count": null,
   "metadata": {},
   "outputs": [],
   "source": [
    "# Can we process MD with this?"
   ]
  },
  {
   "cell_type": "code",
   "execution_count": null,
   "metadata": {},
   "outputs": [],
   "source": [
    "sites = t0_sites + t1_sites + t2_sites + t3_sites + t4_sites + t5_sites\n",
    "atoms = [Atom(species_string='Li') for site in md_structure if site.species_string is 'Li']"
   ]
  },
  {
   "cell_type": "code",
   "execution_count": null,
   "metadata": {},
   "outputs": [],
   "source": [
    "analysis = Analysis(atoms=atoms, sites=sites)"
   ]
  },
  {
   "cell_type": "code",
   "execution_count": null,
   "metadata": {},
   "outputs": [],
   "source": [
    "analysis.append_timestep(md_structure)"
   ]
  },
  {
   "cell_type": "code",
   "execution_count": null,
   "metadata": {},
   "outputs": [],
   "source": [
    "analysis.at"
   ]
  },
  {
   "cell_type": "code",
   "execution_count": null,
   "metadata": {},
   "outputs": [],
   "source": [
    "from scipy.spatial.qhull import ConvexHull"
   ]
  },
  {
   "cell_type": "code",
   "execution_count": null,
   "metadata": {},
   "outputs": [],
   "source": [
    "vols = []\n",
    "for label in ['0', '1', '2', '3', '4', '5']:\n",
    "    these_sites = [ s for s in sites if s.label is label  ]\n",
    "    vols.append( [ ConvexHull(s.vertex_coords).volume for s in these_sites ])"
   ]
  },
  {
   "cell_type": "code",
   "execution_count": null,
   "metadata": {},
   "outputs": [],
   "source": [
    "import matplotlib.pyplot as plt"
   ]
  },
  {
   "cell_type": "code",
   "execution_count": null,
   "metadata": {},
   "outputs": [],
   "source": [
    "plt.hist(vols[0], bins=30, alpha=0.7, label='0')\n",
    "plt.hist(vols[1], bins=30, alpha=0.7, label='1')\n",
    "plt.hist(vols[2], bins=30, alpha=0.7, label='2')\n",
    "plt.hist(vols[3], bins=30, alpha=0.7, label='3')\n",
    "plt.hist(vols[4], bins=30, alpha=0.7, label='4')\n",
    "plt.hist(vols[5], bins=30, alpha=0.7, label='5')\n",
    "plt.legend()\n",
    "plt.show()"
   ]
  },
  {
   "cell_type": "code",
   "execution_count": null,
   "metadata": {},
   "outputs": [],
   "source": [
    "from pymatgen.analysis.chemenv.coordination_environments.coordination_geometry_finder import AbstractGeometry, symmetry_measure\n",
    "from pymatgen.analysis.chemenv.coordination_environments.coordination_geometries import AllCoordinationGeometries\n",
    "from pymatgen.analysis.chemenv.coordination_environments.coordination_geometry_finder import symmetry_measure"
   ]
  },
  {
   "cell_type": "code",
   "execution_count": null,
   "metadata": {},
   "outputs": [],
   "source": [
    "from polyhedral_analysis.symmetry_measure import SymmetryMeasure"
   ]
  },
  {
   "cell_type": "code",
   "execution_count": null,
   "metadata": {},
   "outputs": [],
   "source": [
    "tet_sm = SymmetryMeasure.from_name('Tetrahedron')"
   ]
  },
  {
   "cell_type": "code",
   "execution_count": null,
   "metadata": {},
   "outputs": [],
   "source": [
    "sms = []\n",
    "for label in ['0', '1', '2', '3', '4', '5']:\n",
    "    sms.append([])\n",
    "    these_sites = [ s for s in analysis.sites if s.label == label ]\n",
    "    for site in these_sites:\n",
    "        ag = AbstractGeometry( bare_coords=list(site.vertex_coords), \n",
    "                               central_site=site.centre())\n",
    "        sms[-1].append(tet_sm.minimum_symmetry_measure(ag))"
   ]
  },
  {
   "cell_type": "code",
   "execution_count": null,
   "metadata": {},
   "outputs": [],
   "source": [
    "plt.hist(sms[0], bins=30, alpha=0.7, label='0')\n",
    "plt.hist(sms[1], bins=30, alpha=0.7, label='1')\n",
    "plt.hist(sms[2], bins=30, alpha=0.7, label='2')\n",
    "plt.hist(sms[3], bins=30, alpha=0.7, label='3')\n",
    "plt.hist(sms[4], bins=30, alpha=0.7, label='4')\n",
    "plt.hist(sms[5], bins=30, alpha=0.7, label='5')\n",
    "plt.legend()\n",
    "plt.show()"
   ]
  },
  {
   "cell_type": "code",
   "execution_count": null,
   "metadata": {},
   "outputs": [],
   "source": [
    "xdatcar = Xdatcar(f'{directory}/Li6PS5Cl/50p/run1/inherent_XDATCAR.gz')\n",
    "md_structure = xdatcar.structures[0]"
   ]
  },
  {
   "cell_type": "code",
   "execution_count": null,
   "metadata": {},
   "outputs": [],
   "source": [
    "list(site.vertex_coords)"
   ]
  },
  {
   "cell_type": "code",
   "execution_count": null,
   "metadata": {},
   "outputs": [],
   "source": [
    "analysis.reset()\n",
    "\n",
    "xdatcar = Xdatcar(f'{directory}/Li6PS5I/0p/run1/inherent_XDATCAR.gz')\n",
    "\n",
    "analysis.trajectory_from_structures( xdatcar.structures, progress='notebook')"
   ]
  },
  {
   "cell_type": "code",
   "execution_count": null,
   "metadata": {},
   "outputs": [],
   "source": [
    "c = Counter()\n",
    "for site in analysis.sites:\n",
    "    c[site.label] += len([ 1 for ts in site.trajectory if len(ts)>0 ])\n",
    "for label, n in c.items():\n",
    "    print(f'{label}: {n}')"
   ]
  },
  {
   "cell_type": "code",
   "execution_count": null,
   "metadata": {},
   "outputs": [],
   "source": [
    "analysis.reset()\n",
    "\n",
    "xdatcar = Xdatcar(f'{directory}/Li6PS5Cl/0p/run1/inherent_XDATCAR.gz')\n",
    "\n",
    "analysis.trajectory_from_structures( xdatcar.structures, progress='notebook')"
   ]
  },
  {
   "cell_type": "code",
   "execution_count": null,
   "metadata": {},
   "outputs": [],
   "source": [
    "c = Counter()\n",
    "for site in analysis.sites:\n",
    "    c[site.label] += len([ 1 for ts in site.trajectory if len(ts)>0 ])\n",
    "for label, n in c.items():\n",
    "    print(f'{label}: {n}')"
   ]
  },
  {
   "cell_type": "code",
   "execution_count": null,
   "metadata": {},
   "outputs": [],
   "source": [
    "md_structure = Poscar.from_file('./Li6PS5Cl_222_POSCAR').structure"
   ]
  },
  {
   "cell_type": "code",
   "execution_count": null,
   "metadata": {},
   "outputs": [],
   "source": [
    "t0_indices = get_nearest_n_site_indices( md_structure, t0*[2,2,2], vertex_species=['S', 'I'], n_coord=4)\n",
    "t1_indices = get_nearest_n_site_indices( md_structure, t1*[2,2,2], vertex_species=['S', 'I'], n_coord=4)\n",
    "t2_indices = get_nearest_n_site_indices( md_structure, t2*[2,2,2], vertex_species=['S', 'I'], n_coord=4)\n",
    "t3_indices = get_nearest_n_site_indices( md_structure, t3*[2,2,2], vertex_species=['S', 'I'], n_coord=4)\n",
    "t4_indices = get_nearest_n_site_indices( md_structure, t4*[2,2,2], vertex_species=['S', 'I'], n_coord=4)\n",
    "t5_indices = get_nearest_n_site_indices( md_structure, t5*[2,2,2], vertex_species=['S', 'I'], n_coord=4)"
   ]
  },
  {
   "cell_type": "code",
   "execution_count": null,
   "metadata": {},
   "outputs": [],
   "source": [
    "t0_sites = [ PolyhedralSite(vertex_species=['S','Cl'], vertex_indices=vi, \n",
    "             label='0') for vi in t0_indices ]\n",
    "t1_sites = [ PolyhedralSite(vertex_species=['S','Cl'], vertex_indices=vi, \n",
    "             label='1') for vi in t1_indices ]\n",
    "t2_sites = [ PolyhedralSite(vertex_species=['S','Cl'], vertex_indices=vi, \n",
    "             label='2') for vi in t2_indices ]\n",
    "t3_sites = [ PolyhedralSite(vertex_species=['S','Cl'], vertex_indices=vi, \n",
    "             label='3') for vi in t3_indices ]\n",
    "t4_sites = [ PolyhedralSite(vertex_species=['S','Cl'], vertex_indices=vi, \n",
    "             label='4') for vi in t4_indices ]\n",
    "t5_sites = [ PolyhedralSite(vertex_species=['S','Cl'], vertex_indices=vi, \n",
    "             label='5') for vi in t5_indices ]"
   ]
  },
  {
   "cell_type": "code",
   "execution_count": null,
   "metadata": {},
   "outputs": [],
   "source": [
    "t0_indices"
   ]
  },
  {
   "cell_type": "code",
   "execution_count": null,
   "metadata": {},
   "outputs": [],
   "source": [
    "sites = t0_sites + t1_sites + t2_sites + t3_sites + t4_sites + t5_sites\n",
    "atoms = [Atom(species_string='Li') for site in md_structure if site.species_string is 'Li']"
   ]
  },
  {
   "cell_type": "code",
   "execution_count": null,
   "metadata": {},
   "outputs": [],
   "source": [
    "analysis = Analysis(atoms=atoms, sites=sites)"
   ]
  },
  {
   "cell_type": "code",
   "execution_count": null,
   "metadata": {},
   "outputs": [],
   "source": [
    "analysis.analyse_structure(md_structure)"
   ]
  },
  {
   "cell_type": "code",
   "execution_count": null,
   "metadata": {},
   "outputs": [],
   "source": [
    "analysis.reset()\n",
    "\n",
    "xdatcar = Xdatcar(f'{directory}/Li6PS5Cl/0p/run1/inherent_XDATCAR.gz')\n",
    "\n",
    "analysis.trajectory_from_structures( xdatcar.structures, progress='notebook')"
   ]
  },
  {
   "cell_type": "code",
   "execution_count": null,
   "metadata": {},
   "outputs": [],
   "source": [
    "c = Counter()\n",
    "for site in analysis.sites:\n",
    "    c[site.label] += len([ 1 for ts in site.trajectory if len(ts)>0 ])\n",
    "for label, n in c.items():\n",
    "    print(f'{label}: {n}')"
   ]
  },
  {
   "cell_type": "code",
   "execution_count": null,
   "metadata": {},
   "outputs": [],
   "source": [
    "analysis.reset()\n",
    "\n",
    "xdatcar = Xdatcar(f'{directory}/Li6PS5Cl/100p/run1/inherent_XDATCAR.gz')\n",
    "\n",
    "analysis.trajectory_from_structures( xdatcar.structures, progress='notebook')"
   ]
  },
  {
   "cell_type": "code",
   "execution_count": null,
   "metadata": {},
   "outputs": [],
   "source": [
    "c = Counter()\n",
    "for site in analysis.sites:\n",
    "    c[site.label] += len([ 1 for ts in site.trajectory if len(ts)>0 ])\n",
    "for label, n in c.items():\n",
    "    print(f'{label}: {n}')"
   ]
  },
  {
   "cell_type": "code",
   "execution_count": null,
   "metadata": {},
   "outputs": [],
   "source": [
    "analysis.reset()\n",
    "\n",
    "xdatcar = Xdatcar(f'{directory}/Li6PS5Cl/0p/run1/inherent_XDATCAR.gz')\n",
    "\n",
    "analysis.trajectory_from_structures( xdatcar.structures, progress='notebook')"
   ]
  },
  {
   "cell_type": "code",
   "execution_count": null,
   "metadata": {},
   "outputs": [],
   "source": [
    "c = Counter()\n",
    "for site in analysis.sites:\n",
    "    c[site.label] += len([ 1 for ts in site.trajectory if len(ts)>0 ])\n",
    "for label, n in c.items():\n",
    "    print(f'{label}: {n}')"
   ]
  },
  {
   "cell_type": "code",
   "execution_count": null,
   "metadata": {},
   "outputs": [],
   "source": []
  }
 ],
 "metadata": {
  "kernelspec": {
   "display_name": "Python 3",
   "language": "python",
   "name": "python3"
  },
  "language_info": {
   "codemirror_mode": {
    "name": "ipython",
    "version": 3
   },
   "file_extension": ".py",
   "mimetype": "text/x-python",
   "name": "python",
   "nbconvert_exporter": "python",
   "pygments_lexer": "ipython3",
   "version": "3.7.0"
  }
 },
 "nbformat": 4,
 "nbformat_minor": 2
}
