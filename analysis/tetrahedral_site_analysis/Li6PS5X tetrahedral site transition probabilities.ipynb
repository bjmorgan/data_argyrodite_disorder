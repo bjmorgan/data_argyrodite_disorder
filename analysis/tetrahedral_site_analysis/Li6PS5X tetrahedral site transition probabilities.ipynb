{
 "cells": [
  {
   "cell_type": "code",
   "execution_count": 1,
   "metadata": {},
   "outputs": [],
   "source": [
    "from pymatgen.io.vasp import Poscar, Xdatcar\n",
    "from pymatgen.symmetry.groups import SpaceGroup\n",
    "import numpy as np\n",
    "from site_analysis.atom import Atom, atoms_from_species_string\n",
    "from site_analysis.trajectory import Trajectory\n",
    "from site_analysis.polyhedral_site import PolyhedralSite\n",
    "from site_analysis.tools import get_nearest_neighbour_indices\n",
    "from collections import Counter\n",
    "import tqdm\n",
    "import matplotlib.pyplot as plt"
   ]
  },
  {
   "cell_type": "code",
   "execution_count": 2,
   "metadata": {},
   "outputs": [],
   "source": [
    "directory = '../../data'\n",
    "structure = Poscar.from_file(f'{directory}/reference_structures/Li6PS5I_alltet_sites.POSCAR.vasp').structure"
   ]
  },
  {
   "cell_type": "code",
   "execution_count": 3,
   "metadata": {},
   "outputs": [],
   "source": [
    "from pymatgen import Structure\n",
    "lattice = structure.lattice\n",
    "t0 = Structure.from_spacegroup(sg='F-43m', lattice=lattice, species=['P'], coords=[[0.5, 0.0, 0.0]])\n",
    "t1 = Structure.from_spacegroup(sg='F-43m', lattice=lattice, species=['Li'], coords=[[0.9, 0.9, 0.6]])\n",
    "t2 = Structure.from_spacegroup(sg='F-43m', lattice=lattice, species=['Li'], coords=[[0.23, 0.92, 0.08]])\n",
    "t3 = Structure.from_spacegroup(sg='F-43m', lattice=lattice, species=['Li'], coords=[[0.25, 0.25, 0.25]])\n",
    "t4 = Structure.from_spacegroup(sg='F-43m', lattice=lattice, species=['Li'], coords=[[0.15, 0.15, 0.15]])\n",
    "t5 = Structure.from_spacegroup(sg='F-43m', lattice=lattice, species=['Li'], coords=[[0.0, 0.183, 0.183]])\n",
    "tet_sites = [t0, t1, t2, t3, t4, t5]"
   ]
  },
  {
   "cell_type": "code",
   "execution_count": 4,
   "metadata": {},
   "outputs": [],
   "source": [
    "s_sites = Structure.from_spacegroup(sg='F-43m', \n",
    "                                    lattice=lattice,\n",
    "                                    species=['S', 'S', 'S'], \n",
    "                                    coords=[[0.0, 0.0, 0.0],\n",
    "                                            [0.75, 0.25, 0.25],\n",
    "                                            [0.11824, 0.11824, 0.38176]])*[2,2,2]"
   ]
  },
  {
   "cell_type": "code",
   "execution_count": 5,
   "metadata": {},
   "outputs": [],
   "source": [
    "def map_to_nearest_site(input_structure, species_strings, ref_structure, verbose=True):\n",
    "    mappings = []\n",
    "    site_indices = [i for i, s in enumerate(input_structure) if s.species_string in species_strings]\n",
    "    sites = [input_structure[i] for i in site_indices]\n",
    "    frac_coords = [input_structure[i].frac_coords for i in site_indices]\n",
    "    latt = ref_structure.lattice\n",
    "    dr = latt.get_all_distances( frac_coords, ref_structure.frac_coords )\n",
    "    disp = []\n",
    "    for s, r in zip(sites, dr):\n",
    "        index = np.argmin(r)\n",
    "        mappings.append(index)\n",
    "        disp.append(latt.get_distance_and_image(s.frac_coords, ref_structure[index].frac_coords)[0])\n",
    "        s.coords = ref_structure[index].coords\n",
    "        assert(len(mappings) == len(set(mappings)))\n",
    "    if verbose:\n",
    "        print(f'max mapping displacement = {max(disp)}')"
   ]
  },
  {
   "cell_type": "code",
   "execution_count": 6,
   "metadata": {},
   "outputs": [],
   "source": [
    "def tetrahedral_site_trajectory( xdatcar, x_spec ):\n",
    "    md_structure = xdatcar.structures[0]\n",
    "    map_to_nearest_site(md_structure, ['S', x_spec], s_sites)\n",
    "    atoms = atoms_from_species_string(md_structure, 'Li')\n",
    "\n",
    "    t0_indices = get_nearest_neighbour_indices(md_structure, t0*[2,2,2], vertex_species=['S', x_spec], n_coord=4)\n",
    "    t1_indices = get_nearest_neighbour_indices(md_structure, t1*[2,2,2], vertex_species=['S', x_spec], n_coord=4)\n",
    "    t2_indices = get_nearest_neighbour_indices(md_structure, t2*[2,2,2], vertex_species=['S', x_spec], n_coord=4)\n",
    "    t3_indices = get_nearest_neighbour_indices(md_structure, t3*[2,2,2], vertex_species=['S', x_spec], n_coord=4)\n",
    "    t4_indices = get_nearest_neighbour_indices(md_structure, t4*[2,2,2], vertex_species=['S', x_spec], n_coord=4)\n",
    "    t5_indices = get_nearest_neighbour_indices(md_structure, t5*[2,2,2], vertex_species=['S', x_spec], n_coord=4)\n",
    "    \n",
    "    PolyhedralSite.reset_index()\n",
    "\n",
    "    t0_sites = PolyhedralSite.sites_from_vertex_indices(t0_indices, label='0')\n",
    "    t1_sites = PolyhedralSite.sites_from_vertex_indices(t1_indices, label='1')\n",
    "    t2_sites = PolyhedralSite.sites_from_vertex_indices(t2_indices, label='2')\n",
    "    t3_sites = PolyhedralSite.sites_from_vertex_indices(t3_indices, label='3')\n",
    "    t4_sites = PolyhedralSite.sites_from_vertex_indices(t4_indices, label='4')\n",
    "    t5_sites = PolyhedralSite.sites_from_vertex_indices(t5_indices, label='5') \n",
    "\n",
    "    sites = t0_sites + t1_sites + t2_sites + t3_sites + t4_sites + t5_sites\n",
    "\n",
    "    trajectory = Trajectory(atoms=atoms, sites=sites)\n",
    "    trajectory.trajectory_from_structures( xdatcar.structures, progress='notebook')\n",
    "    return trajectory\n",
    "\n",
    "def site_populations(trajectory):\n",
    "    c = Counter()\n",
    "    for site in trajectory.sites:\n",
    "        c[site.label] += len([ 1 for ts in site.trajectory if len(ts)>0 ])\n",
    "    total = sum(c.values())\n",
    "    return {label: n/total for label, n in c.items()}"
   ]
  },
  {
   "cell_type": "code",
   "execution_count": 7,
   "metadata": {},
   "outputs": [],
   "source": [
    "populations = {'Li6PS5I': {}, 'Li6PS5Cl': {}}\n",
    "transitions = {'Li6PS5I': {}, 'Li6PS5Cl': {}}"
   ]
  },
  {
   "cell_type": "code",
   "execution_count": 8,
   "metadata": {},
   "outputs": [],
   "source": [
    "def site_transitions(analysis):\n",
    "    unassignable = 0\n",
    "    transitions = {'1': Counter({'1':0, '2':0, '3':0, '4':0, '5':0}),\n",
    "                   '2': Counter({'1':0, '2':0, '3':0, '4':0, '5':0}),\n",
    "                   '3': Counter({'1':0, '2':0, '3':0, '4':0, '5':0}), \n",
    "                   '4': Counter({'1':0, '2':0, '3':0, '4':0, '5':0}), \n",
    "                   '5': Counter({'1':0, '2':0, '3':0, '4':0, '5':0})}\n",
    "    for atom_trajectory in np.array(analysis.atoms_trajectory).T:\n",
    "        for i, j in zip(atom_trajectory[:-1], atom_trajectory[1:]):\n",
    "            if i != j:\n",
    "                site_i = analysis.site_by_index(i)\n",
    "                site_j = analysis.site_by_index(j)\n",
    "                neighbouring_sites = analysis.site_collection.neighbouring_sites(i)\n",
    "                if site_j.index in [ s.index for s in neighbouring_sites ]:\n",
    "                    transitions[site_i.label][site_j.label] += 1\n",
    "                else:\n",
    "                    n_sites_i = analysis.site_collection.neighbouring_sites(i)\n",
    "                    n_sites_j = analysis.site_collection.neighbouring_sites(j)\n",
    "                    intermediate_site = set([s.index for s in n_sites_i]) & set([s.index for s in n_sites_j])\n",
    "                    if len(intermediate_site) == 1:\n",
    "                        site_int = analysis.site_by_index(list(intermediate_site)[0])\n",
    "                        transitions[site_i.label][site_int.label] += 1\n",
    "                        transitions[site_int.label][site_j.label] += 1\n",
    "                    else:\n",
    "                        unassignable += 1\n",
    "    print(f'{unassignable} changes not assigned')\n",
    "    return transitions"
   ]
  },
  {
   "cell_type": "code",
   "execution_count": 9,
   "metadata": {},
   "outputs": [
    {
     "name": "stdout",
     "output_type": "stream",
     "text": [
      "max mapping displacement = 0.2557492206222053\n"
     ]
    },
    {
     "data": {
      "application/vnd.jupyter.widget-view+json": {
       "model_id": "742038bb826e40e2b96685285e202892",
       "version_major": 2,
       "version_minor": 0
      },
      "text/plain": [
       "HBox(children=(IntProgress(value=0, max=140), HTML(value='')))"
      ]
     },
     "metadata": {},
     "output_type": "display_data"
    },
    {
     "name": "stdout",
     "output_type": "stream",
     "text": [
      "\n",
      "0 changes not assigned\n"
     ]
    }
   ],
   "source": [
    "system = 'Li6PS5I'\n",
    "disorder = '0p'\n",
    "x_spec = 'I'\n",
    "xdatcar = Xdatcar(f'{directory}/{system}/{disorder}/run1/inherent_XDATCAR.gz')\n",
    "trajectory = tetrahedral_site_trajectory( xdatcar, x_spec )\n",
    "populations[system][disorder] = site_populations(trajectory)\n",
    "transitions[system][disorder] = site_transitions(trajectory)"
   ]
  },
  {
   "cell_type": "code",
   "execution_count": 10,
   "metadata": {},
   "outputs": [
    {
     "name": "stdout",
     "output_type": "stream",
     "text": [
      "max mapping displacement = 0.5849922354277903\n"
     ]
    },
    {
     "data": {
      "application/vnd.jupyter.widget-view+json": {
       "model_id": "3b89ab1a1ce9465fb539182861e8d968",
       "version_major": 2,
       "version_minor": 0
      },
      "text/plain": [
       "HBox(children=(IntProgress(value=0), HTML(value='')))"
      ]
     },
     "metadata": {},
     "output_type": "display_data"
    },
    {
     "name": "stdout",
     "output_type": "stream",
     "text": [
      "\n",
      "2 changes not assigned\n"
     ]
    }
   ],
   "source": [
    "system = 'Li6PS5I'\n",
    "disorder = '50p'\n",
    "x_spec = 'I'\n",
    "xdatcar = Xdatcar(f'{directory}/{system}/{disorder}/run1/inherent_XDATCAR.gz')\n",
    "trajectory = tetrahedral_site_trajectory( xdatcar, x_spec )\n",
    "populations[system][disorder] = site_populations( trajectory )\n",
    "transitions[system][disorder] = site_transitions(trajectory)"
   ]
  },
  {
   "cell_type": "code",
   "execution_count": 11,
   "metadata": {},
   "outputs": [
    {
     "name": "stdout",
     "output_type": "stream",
     "text": [
      "max mapping displacement = 0.4270758927802738\n"
     ]
    },
    {
     "data": {
      "application/vnd.jupyter.widget-view+json": {
       "model_id": "289485cc18b24b21adc56c7863084fe1",
       "version_major": 2,
       "version_minor": 0
      },
      "text/plain": [
       "HBox(children=(IntProgress(value=0), HTML(value='')))"
      ]
     },
     "metadata": {},
     "output_type": "display_data"
    },
    {
     "name": "stdout",
     "output_type": "stream",
     "text": [
      "\n",
      "0 changes not assigned\n"
     ]
    }
   ],
   "source": [
    "system = 'Li6PS5I'\n",
    "disorder = '100p'\n",
    "x_spec = 'I'\n",
    "xdatcar = Xdatcar(f'{directory}/{system}/{disorder}/run1/inherent_XDATCAR.gz')\n",
    "trajectory = tetrahedral_site_trajectory( xdatcar, x_spec )\n",
    "populations[system][disorder] = site_populations( trajectory )\n",
    "transitions[system][disorder] = site_transitions(trajectory)"
   ]
  },
  {
   "cell_type": "code",
   "execution_count": 12,
   "metadata": {},
   "outputs": [
    {
     "name": "stdout",
     "output_type": "stream",
     "text": [
      "max mapping displacement = 0.8905481681525752\n"
     ]
    },
    {
     "data": {
      "application/vnd.jupyter.widget-view+json": {
       "model_id": "0e8028d4318d4f60a9b17ea26c330958",
       "version_major": 2,
       "version_minor": 0
      },
      "text/plain": [
       "HBox(children=(IntProgress(value=0, max=140), HTML(value='')))"
      ]
     },
     "metadata": {},
     "output_type": "display_data"
    },
    {
     "name": "stdout",
     "output_type": "stream",
     "text": [
      "\n",
      "7 changes not assigned\n"
     ]
    }
   ],
   "source": [
    "system = 'Li6PS5Cl'\n",
    "disorder = '0p'\n",
    "x_spec = 'Cl'\n",
    "xdatcar = Xdatcar(f'{directory}/{system}/{disorder}/run1/inherent_XDATCAR.gz')\n",
    "trajectory = tetrahedral_site_trajectory( xdatcar, x_spec )\n",
    "populations[system][disorder] = site_populations( trajectory )\n",
    "transitions[system][disorder] = site_transitions(trajectory)"
   ]
  },
  {
   "cell_type": "code",
   "execution_count": 13,
   "metadata": {},
   "outputs": [
    {
     "name": "stdout",
     "output_type": "stream",
     "text": [
      "max mapping displacement = 0.7812197665560381\n"
     ]
    },
    {
     "data": {
      "application/vnd.jupyter.widget-view+json": {
       "model_id": "2a2fa3b63b6c484bb3f04b61895cd0d3",
       "version_major": 2,
       "version_minor": 0
      },
      "text/plain": [
       "HBox(children=(IntProgress(value=0, max=140), HTML(value='')))"
      ]
     },
     "metadata": {},
     "output_type": "display_data"
    },
    {
     "name": "stdout",
     "output_type": "stream",
     "text": [
      "\n",
      "12 changes not assigned\n"
     ]
    }
   ],
   "source": [
    "system = 'Li6PS5Cl'\n",
    "disorder = '50p'\n",
    "x_spec = 'Cl'\n",
    "xdatcar = Xdatcar(f'{directory}/{system}/{disorder}/run1/inherent_XDATCAR.gz')\n",
    "trajectory = tetrahedral_site_trajectory( xdatcar, x_spec )\n",
    "populations[system][disorder] = site_populations( trajectory )\n",
    "transitions[system][disorder] = site_transitions(trajectory)"
   ]
  },
  {
   "cell_type": "code",
   "execution_count": 14,
   "metadata": {},
   "outputs": [
    {
     "name": "stdout",
     "output_type": "stream",
     "text": [
      "max mapping displacement = 0.6035455650682233\n"
     ]
    },
    {
     "data": {
      "application/vnd.jupyter.widget-view+json": {
       "model_id": "9af502859e424241ac60870ec75c4e10",
       "version_major": 2,
       "version_minor": 0
      },
      "text/plain": [
       "HBox(children=(IntProgress(value=0, max=140), HTML(value='')))"
      ]
     },
     "metadata": {},
     "output_type": "display_data"
    },
    {
     "name": "stdout",
     "output_type": "stream",
     "text": [
      "\n",
      "8 changes not assigned\n"
     ]
    }
   ],
   "source": [
    "system = 'Li6PS5Cl'\n",
    "disorder = '100p'\n",
    "x_spec = 'Cl'\n",
    "xdatcar = Xdatcar(f'{directory}/{system}/{disorder}/run1/inherent_XDATCAR.gz')\n",
    "trajectory = tetrahedral_site_trajectory( xdatcar, x_spec )\n",
    "populations[system][disorder] = site_populations( trajectory )\n",
    "transitions[system][disorder] = site_transitions(trajectory)"
   ]
  },
  {
   "cell_type": "code",
   "execution_count": 33,
   "metadata": {},
   "outputs": [],
   "source": [
    "def get_data(st):\n",
    "    data = np.array([[st['2']['2'], st['4']['2'], st['5']['2']],\n",
    "                     [st['2']['4'], st['4']['4'], st['5']['4']],\n",
    "                     [st['2']['5'], st['4']['5'], st['5']['5']]])\n",
    "    data = data / data.sum(axis=0)\n",
    "    return data.T # following right stochastic matrix convention: https://en.wikipedia.org/wiki/Stochastic_matrix"
   ]
  },
  {
   "cell_type": "code",
   "execution_count": 34,
   "metadata": {},
   "outputs": [],
   "source": [
    "import matplotlib as mpl\n",
    "\n",
    "\n",
    "def heatmap(data, row_labels, col_labels, ax=None,\n",
    "            cbar_kw={}, cbarlabel=\"\", **kwargs):\n",
    "    \"\"\"\n",
    "    Create a heatmap from a numpy array and two lists of labels.\n",
    "\n",
    "    Parameters\n",
    "    ----------\n",
    "    data\n",
    "        A 2D numpy array of shape (N, M).\n",
    "    row_labels\n",
    "        A list or array of length N with the labels for the rows.\n",
    "    col_labels\n",
    "        A list or array of length M with the labels for the columns.\n",
    "    ax\n",
    "        A `matplotlib.axes.Axes` instance to which the heatmap is plotted.  If\n",
    "        not provided, use current axes or create a new one.  Optional.\n",
    "    cbar_kw\n",
    "        A dictionary with arguments to `matplotlib.Figure.colorbar`.  Optional.\n",
    "    cbarlabel\n",
    "        The label for the colorbar.  Optional.\n",
    "    **kwargs\n",
    "        All other arguments are forwarded to `imshow`.\n",
    "    \"\"\"\n",
    "\n",
    "    if not ax:\n",
    "        ax = plt.gca()\n",
    "\n",
    "    # Plot the heatmap\n",
    "    im = ax.imshow(data, vmin=0.0, vmax=1.0, **kwargs)\n",
    "\n",
    "#     # Create colorbar\n",
    "#     cbar = ax.figure.colorbar(im, ax=ax, **cbar_kw)\n",
    "#     cbar.ax.set_ylabel(cbarlabel, rotation=-90, va=\"bottom\")\n",
    "\n",
    "    # We want to show all ticks...\n",
    "    ax.set_xticks(np.arange(data.shape[1]))\n",
    "    ax.set_yticks(np.arange(data.shape[0]))\n",
    "    # ... and label them with the respective list entries.\n",
    "    ax.set_xticklabels(col_labels)\n",
    "    ax.set_yticklabels(row_labels)\n",
    "\n",
    "    # Let the horizontal axes labeling appear on top.\n",
    "    ax.tick_params(top=True, bottom=False,\n",
    "                   labeltop=True, labelbottom=False)\n",
    "\n",
    "#     # Turn spines off and create white grid.\n",
    "#     for edge, spine in ax.spines.items():\n",
    "#         spine.set_visible(False)\n",
    "\n",
    "    ax.set_xticks(np.arange(data.shape[1]+1)-.5, minor=True)\n",
    "    ax.set_yticks(np.arange(data.shape[0]+1)-.5, minor=True)\n",
    "    ax.grid(which=\"minor\", color=\"black\", linestyle='-', linewidth=1)\n",
    "    ax.tick_params(which=\"minor\", bottom=False, left=False)\n",
    "\n",
    "    return im\n",
    "\n",
    "\n",
    "def annotate_heatmap(im, data=None, valfmt=\"{x:.2f}\",\n",
    "                     textcolors=[\"black\", \"white\"],\n",
    "                     threshold=None, **textkw):\n",
    "    \"\"\"\n",
    "    A function to annotate a heatmap.\n",
    "\n",
    "    Parameters\n",
    "    ----------\n",
    "    im\n",
    "        The AxesImage to be labeled.\n",
    "    data\n",
    "        Data used to annotate.  If None, the image's data is used.  Optional.\n",
    "    valfmt\n",
    "        The format of the annotations inside the heatmap.  This should either\n",
    "        use the string format method, e.g. \"$ {x:.2f}\", or be a\n",
    "        `matplotlib.ticker.Formatter`.  Optional.\n",
    "    textcolors\n",
    "        A list or array of two color specifications.  The first is used for\n",
    "        values below a threshold, the second for those above.  Optional.\n",
    "    threshold\n",
    "        Value in data units according to which the colors from textcolors are\n",
    "        applied.  If None (the default) uses the middle of the colormap as\n",
    "        separation.  Optional.\n",
    "    **kwargs\n",
    "        All other arguments are forwarded to each call to `text` used to create\n",
    "        the text labels.\n",
    "    \"\"\"\n",
    "\n",
    "    if not isinstance(data, (list, np.ndarray)):\n",
    "        data = im.get_array()\n",
    "\n",
    "    # Normalize the threshold to the images color range.\n",
    "    if threshold is not None:\n",
    "        threshold = im.norm(threshold)\n",
    "    else:\n",
    "        threshold = im.norm(data.max())/2.\n",
    "\n",
    "    # Set default alignment to center, but allow it to be\n",
    "    # overwritten by textkw.\n",
    "    kw = dict(horizontalalignment=\"center\",\n",
    "              verticalalignment=\"center\")\n",
    "    kw.update(textkw)\n",
    "\n",
    "    # Get the formatter in case a string is supplied\n",
    "    if isinstance(valfmt, str):\n",
    "        valfmt = mpl.ticker.StrMethodFormatter(valfmt)\n",
    "\n",
    "    # Loop over the data and create a `Text` for each \"pixel\".\n",
    "    # Change the text's color depending on the data.\n",
    "    texts = []\n",
    "    for i in range(data.shape[0]):\n",
    "        for j in range(data.shape[1]):\n",
    "            if data[i,j] > 0:\n",
    "                if np.ma.is_masked(data):\n",
    "                    if not data.mask[i,j]:\n",
    "                        kw.update(color=textcolors[int(im.norm(data[i, j]) > threshold)])\n",
    "                        text = im.axes.text(j, i, valfmt(data[i, j], None), **kw)\n",
    "                        texts.append(text)\n",
    "                else:\n",
    "                    kw.update(color=textcolors[int(im.norm(data[i, j]) > threshold)])\n",
    "                    text = im.axes.text(j, i, valfmt(data[i, j], None), **kw)\n",
    "                    texts.append(text)\n",
    "    return texts"
   ]
  },
  {
   "cell_type": "code",
   "execution_count": 35,
   "metadata": {},
   "outputs": [
    {
     "name": "stderr",
     "output_type": "stream",
     "text": [
      "/Users/bjm42/.pyenv/versions/3.7.0/lib/python3.7/site-packages/ipykernel_launcher.py:5: RuntimeWarning: invalid value encountered in true_divide\n",
      "  \"\"\"\n"
     ]
    },
    {
     "data": {
      "image/png": "[encoded data removed]",
      "text/plain": [
       "<Figure size 424.8x576 with 6 Axes>"
      ]
     },
     "metadata": {
      "image/png": {
       "height": 553,
       "width": 398
      },
      "needs_background": "light"
     },
     "output_type": "display_data"
    }
   ],
   "source": [
    "from matplotlib import rcParams\n",
    "\n",
    "rcParams['font.serif'] = \"Iowan Old Style\"\n",
    "rcParams['font.family'] = \"serif\"\n",
    "\n",
    "rcParams['font.family'] = 'serif'\n",
    "rcParams['mathtext.fontset'] = 'custom'\n",
    "rcParams['mathtext.rm'] = 'Iowan Old Style'\n",
    "rcParams['mathtext.it'] = 'Iowan Old Style:italic'\n",
    "rcParams['mathtext.bf'] = 'Iowan Old Style:bold'\n",
    "\n",
    "rcParams['pdf.fonttype'] = 42\n",
    "rcParams['ps.fonttype'] = 42\n",
    "rcParams.update({'font.size': 16})\n",
    "\n",
    "cmap = \"bone_r\"\n",
    "sites = [2,4,5]\n",
    "fig, ax = plt.subplots(3,2, figsize=(5.9,8))\n",
    "\n",
    "data = get_data(transitions['Li6PS5I']['0p'])\n",
    "im = heatmap(data, sites, sites, ax=ax[0,0],\n",
    "                   cmap=cmap, cbarlabel=r\"$P_\\mathrm{trans}$\")\n",
    "texts = annotate_heatmap(im, valfmt=\"{x:.2f}\")\n",
    "\n",
    "data = get_data(transitions['Li6PS5Cl']['0p'])\n",
    "im = heatmap(data, sites, sites, ax=ax[0,1],\n",
    "                   cmap=cmap, cbarlabel=r\"$P_\\mathrm{trans}$\")\n",
    "texts = annotate_heatmap(im, valfmt=\"{x:.2f}\")\n",
    "\n",
    "data = get_data(transitions['Li6PS5I']['50p'])\n",
    "\n",
    "im = heatmap(data, sites, sites, ax=ax[1,0],\n",
    "                   cmap=cmap, cbarlabel=r\"$P_\\mathrm{trans}$\")\n",
    "texts = annotate_heatmap(im, valfmt=\"{x:.2f}\")\n",
    "\n",
    "data = get_data(transitions['Li6PS5Cl']['50p'])\n",
    "im = heatmap(data, sites, sites, ax=ax[1,1],\n",
    "                   cmap=cmap, cbarlabel=r\"$P_\\mathrm{trans}$\")\n",
    "texts = annotate_heatmap(im, valfmt=\"{x:.2f}\")\n",
    "\n",
    "data = get_data(transitions['Li6PS5I']['100p'])\n",
    "im = heatmap(data, sites, sites, ax=ax[2,0],\n",
    "                   cmap=cmap, cbarlabel=r\"$P_\\mathrm{trans}$\")\n",
    "texts = annotate_heatmap(im, valfmt=\"{x:.2f}\")\n",
    "\n",
    "data = get_data(transitions['Li6PS5Cl']['100p'])\n",
    "im = heatmap(data, sites, sites, ax=ax[2,1],\n",
    "                   cmap=cmap, cbarlabel=r\"$P_\\mathrm{trans}$\")\n",
    "texts = annotate_heatmap(im, valfmt=\"{x:.2f}\")\n",
    "\n",
    "ax[0,0].set_title(r'Li$_6$PS$_5$I', pad=15, size=16)\n",
    "ax[0,1].set_title(r'Li$_6$PS$_5$Cl', pad=15, size=16)\n",
    "ax[0,1].text(2.75,1.1,'0 %')\n",
    "ax[1,1].text(2.75,1.1,'50 %')\n",
    "ax[2,1].text(2.75,1.1,'100 %')\n",
    "\n",
    "fig.tight_layout()\n",
    "plt.savefig('../../figures/transition_matrices.pdf')\n",
    "plt.show()"
   ]
  },
  {
   "cell_type": "code",
   "execution_count": null,
   "metadata": {},
   "outputs": [],
   "source": []
  }
 ],
 "metadata": {
  "kernelspec": {
   "display_name": "Python 3",
   "language": "python",
   "name": "python3"
  },
  "language_info": {
   "codemirror_mode": {
    "name": "ipython",
    "version": 3
   },
   "file_extension": ".py",
   "mimetype": "text/x-python",
   "name": "python",
   "nbconvert_exporter": "python",
   "pygments_lexer": "ipython3",
   "version": "3.7.0"
  }
 },
 "nbformat": 4,
 "nbformat_minor": 2
}
