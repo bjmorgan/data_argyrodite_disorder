{
 "cells": [
  {
   "cell_type": "code",
   "execution_count": 13,
   "metadata": {},
   "outputs": [],
   "source": [
    "from pymatgen.io.vasp import Poscar, Xdatcar\n",
    "from pymatgen.symmetry.groups import SpaceGroup\n",
    "import numpy as np\n",
    "from site_analysis.atom import Atom, atoms_from_species_string\n",
    "from site_analysis.trajectory import Trajectory\n",
    "from site_analysis.polyhedral_site import PolyhedralSite\n",
    "from site_analysis.tools import get_nearest_neighbour_indices\n",
    "from collections import Counter\n",
    "import tqdm\n",
    "import matplotlib.pyplot as plt"
   ]
  },
  {
   "cell_type": "code",
   "execution_count": 14,
   "metadata": {},
   "outputs": [],
   "source": [
    "directory = '../../data'\n",
    "structure = Poscar.from_file(f'{directory}/reference_structures/Li6PS5I_alltet_sites.POSCAR.vasp').structure"
   ]
  },
  {
   "cell_type": "code",
   "execution_count": 15,
   "metadata": {},
   "outputs": [],
   "source": [
    "from pymatgen import Structure\n",
    "lattice = structure.lattice\n",
    "t0 = Structure.from_spacegroup(sg='F-43m', lattice=lattice, species=['P'], coords=[[0.5, 0.0, 0.0]])\n",
    "t1 = Structure.from_spacegroup(sg='F-43m', lattice=lattice, species=['Li'], coords=[[0.9, 0.9, 0.6]])\n",
    "t2 = Structure.from_spacegroup(sg='F-43m', lattice=lattice, species=['Li'], coords=[[0.23, 0.92, 0.08]])\n",
    "t3 = Structure.from_spacegroup(sg='F-43m', lattice=lattice, species=['Li'], coords=[[0.25, 0.25, 0.25]])\n",
    "t4 = Structure.from_spacegroup(sg='F-43m', lattice=lattice, species=['Li'], coords=[[0.15, 0.15, 0.15]])\n",
    "t5 = Structure.from_spacegroup(sg='F-43m', lattice=lattice, species=['Li'], coords=[[0.0, 0.183, 0.183]])\n",
    "tet_sites = [t0, t1, t2, t3, t4, t5]"
   ]
  },
  {
   "cell_type": "code",
   "execution_count": 16,
   "metadata": {},
   "outputs": [],
   "source": [
    "s_sites = Structure.from_spacegroup(sg='F-43m', \n",
    "                                    lattice=lattice,\n",
    "                                    species=['S', 'S', 'S'], \n",
    "                                    coords=[[0.0, 0.0, 0.0],\n",
    "                                            [0.75, 0.25, 0.25],\n",
    "                                            [0.11824, 0.11824, 0.38176]])*[2,2,2]"
   ]
  },
  {
   "cell_type": "code",
   "execution_count": 17,
   "metadata": {},
   "outputs": [],
   "source": [
    "def map_to_nearest_site(input_structure, species_strings, ref_structure, verbose=True):\n",
    "    mappings = []\n",
    "    site_indices = [i for i, s in enumerate(input_structure) if s.species_string in species_strings]\n",
    "    sites = [input_structure[i] for i in site_indices]\n",
    "    frac_coords = [input_structure[i].frac_coords for i in site_indices]\n",
    "    latt = ref_structure.lattice\n",
    "    dr = latt.get_all_distances( frac_coords, ref_structure.frac_coords )\n",
    "    disp = []\n",
    "    for s, r in zip(sites, dr):\n",
    "        index = np.argmin(r)\n",
    "        mappings.append(index)\n",
    "        disp.append(latt.get_distance_and_image(s.frac_coords, ref_structure[index].frac_coords)[0])\n",
    "        s.coords = ref_structure[index].coords\n",
    "        assert(len(mappings) == len(set(mappings)))\n",
    "    if verbose:\n",
    "        print(f'max mapping disp = {max(disp)}')"
   ]
  },
  {
   "cell_type": "code",
   "execution_count": 24,
   "metadata": {},
   "outputs": [],
   "source": [
    "def tetrahedral_site_analysis( xdatcar, x_spec ):\n",
    "    md_structure = xdatcar.structures[0]\n",
    "    map_to_nearest_site(md_structure, ['S', x_spec], s_sites)\n",
    "    \n",
    "    atoms = atoms_from_species_string(md_structure, 'Li')\n",
    "\n",
    "    t0_indices = get_nearest_neighbour_indices( md_structure, t0*[2,2,2], vertex_species=['S', x_spec], n_coord=4)\n",
    "    t1_indices = get_nearest_neighbour_indices( md_structure, t1*[2,2,2], vertex_species=['S', x_spec], n_coord=4)\n",
    "    t2_indices = get_nearest_neighbour_indices( md_structure, t2*[2,2,2], vertex_species=['S', x_spec], n_coord=4)\n",
    "    t3_indices = get_nearest_neighbour_indices( md_structure, t3*[2,2,2], vertex_species=['S', x_spec], n_coord=4)\n",
    "    t4_indices = get_nearest_neighbour_indices( md_structure, t4*[2,2,2], vertex_species=['S', x_spec], n_coord=4)\n",
    "    t5_indices = get_nearest_neighbour_indices( md_structure, t5*[2,2,2], vertex_species=['S', x_spec], n_coord=4)\n",
    "    \n",
    "    PolyhedralSite.reset_index()\n",
    "\n",
    "    t0_sites = [ PolyhedralSite(vertex_indices=vi, \n",
    "                 label='0') for vi in t0_indices ]\n",
    "    t1_sites = [ PolyhedralSite(vertex_indices=vi, \n",
    "                 label='1') for vi in t1_indices ]\n",
    "    t2_sites = [ PolyhedralSite(vertex_indices=vi, \n",
    "                 label='2') for vi in t2_indices ]\n",
    "    t3_sites = [ PolyhedralSite(vertex_indices=vi, \n",
    "                 label='3') for vi in t3_indices ]\n",
    "    t4_sites = [ PolyhedralSite(vertex_indices=vi, \n",
    "                 label='4') for vi in t4_indices ]\n",
    "    t5_sites = [ PolyhedralSite(vertex_indices=vi, \n",
    "                 label='5') for vi in t5_indices ]\n",
    "    sites = t0_sites + t1_sites + t2_sites + t3_sites + t4_sites + t5_sites\n",
    "\n",
    "    trajectory = Trajectory(atoms=atoms, sites=sites)\n",
    "    trajectory.trajectory_from_structures( xdatcar.structures, progress='notebook')\n",
    "    return trajectory\n",
    "\n",
    "def site_populations(analysis):\n",
    "    c = Counter()\n",
    "    for site in analysis.sites:\n",
    "        c[site.label] += len([ 1 for ts in site.trajectory if len(ts)>0 ])\n",
    "    total = sum(c.values())\n",
    "    return {label: n/total for label, n in c.items()}"
   ]
  },
  {
   "cell_type": "code",
   "execution_count": 25,
   "metadata": {},
   "outputs": [],
   "source": [
    "populations = {'Li6PS5I': {}, 'Li6PS5Cl': {}}"
   ]
  },
  {
   "cell_type": "code",
   "execution_count": 26,
   "metadata": {},
   "outputs": [
    {
     "name": "stdout",
     "output_type": "stream",
     "text": [
      "max mapping disp = 0.2557492206222053\n"
     ]
    },
    {
     "data": {
      "application/vnd.jupyter.widget-view+json": {
       "model_id": "da9339cf962e42088600d5b0e7b0886c",
       "version_major": 2,
       "version_minor": 0
      },
      "text/plain": [
       "HBox(children=(IntProgress(value=0, max=140), HTML(value='')))"
      ]
     },
     "metadata": {},
     "output_type": "display_data"
    },
    {
     "name": "stdout",
     "output_type": "stream",
     "text": [
      "\n"
     ]
    }
   ],
   "source": [
    "system = 'Li6PS5I'\n",
    "disorder = '0p'\n",
    "x_spec = 'I'\n",
    "xdatcar = Xdatcar(f'{directory}/{system}/{disorder}/run1/inherent_XDATCAR.gz')\n",
    "trajectory = tetrahedral_site_analysis( xdatcar, x_spec )\n",
    "populations[system][disorder] = site_populations(trajectory)"
   ]
  },
  {
   "cell_type": "code",
   "execution_count": 29,
   "metadata": {},
   "outputs": [
    {
     "name": "stdout",
     "output_type": "stream",
     "text": [
      "max mapping disp = 0.5849922354277903\n"
     ]
    },
    {
     "data": {
      "application/vnd.jupyter.widget-view+json": {
       "model_id": "96410133b8d6487aadabee1dc09bd7b5",
       "version_major": 2,
       "version_minor": 0
      },
      "text/plain": [
       "HBox(children=(IntProgress(value=0), HTML(value='')))"
      ]
     },
     "metadata": {},
     "output_type": "display_data"
    }
   ],
   "source": [
    "system = 'Li6PS5I'\n",
    "disorder = '50p'\n",
    "x_spec = 'I'\n",
    "xdatcar = Xdatcar(f'{directory}/{system}/{disorder}/run1/inherent_XDATCAR.gz')\n",
    "trajectory = tetrahedral_site_analysis( xdatcar, x_spec )\n",
    "populations[system][disorder] = site_populations(trajectory)"
   ]
  },
  {
   "cell_type": "code",
   "execution_count": 30,
   "metadata": {},
   "outputs": [
    {
     "name": "stdout",
     "output_type": "stream",
     "text": [
      "max mapping disp = 0.4270758927802738\n"
     ]
    },
    {
     "data": {
      "application/vnd.jupyter.widget-view+json": {
       "model_id": "cad50d9e276d44788c4693aad88780da",
       "version_major": 2,
       "version_minor": 0
      },
      "text/plain": [
       "HBox(children=(IntProgress(value=0), HTML(value='')))"
      ]
     },
     "metadata": {},
     "output_type": "display_data"
    }
   ],
   "source": [
    "system = 'Li6PS5I'\n",
    "disorder = '100p'\n",
    "x_spec = 'I'\n",
    "xdatcar = Xdatcar(f'{directory}/{system}/{disorder}/run1/inherent_XDATCAR.gz')\n",
    "trajectory = tetrahedral_site_analysis( xdatcar, x_spec )\n",
    "populations[system][disorder] = site_populations(trajectory)"
   ]
  },
  {
   "cell_type": "code",
   "execution_count": 31,
   "metadata": {},
   "outputs": [
    {
     "name": "stdout",
     "output_type": "stream",
     "text": [
      "max mapping disp = 0.8905481681525752\n"
     ]
    },
    {
     "data": {
      "application/vnd.jupyter.widget-view+json": {
       "model_id": "a748e8cde25d450aa2105d2011dd8fd4",
       "version_major": 2,
       "version_minor": 0
      },
      "text/plain": [
       "HBox(children=(IntProgress(value=0, max=140), HTML(value='')))"
      ]
     },
     "metadata": {},
     "output_type": "display_data"
    }
   ],
   "source": [
    "system = 'Li6PS5Cl'\n",
    "disorder = '0p'\n",
    "x_spec = 'Cl'\n",
    "xdatcar = Xdatcar(f'{directory}/{system}/{disorder}/run1/inherent_XDATCAR.gz')\n",
    "trajectory = tetrahedral_site_analysis( xdatcar, x_spec )\n",
    "populations[system][disorder] = site_populations(trajectory)"
   ]
  },
  {
   "cell_type": "code",
   "execution_count": 32,
   "metadata": {},
   "outputs": [
    {
     "name": "stdout",
     "output_type": "stream",
     "text": [
      "max mapping disp = 0.7812197665560381\n"
     ]
    },
    {
     "data": {
      "application/vnd.jupyter.widget-view+json": {
       "model_id": "a4b868ff36f94b768b88d8ea3dd4222f",
       "version_major": 2,
       "version_minor": 0
      },
      "text/plain": [
       "HBox(children=(IntProgress(value=0, max=140), HTML(value='')))"
      ]
     },
     "metadata": {},
     "output_type": "display_data"
    }
   ],
   "source": [
    "system = 'Li6PS5Cl'\n",
    "disorder = '50p'\n",
    "x_spec = 'Cl'\n",
    "xdatcar = Xdatcar(f'{directory}/{system}/{disorder}/run1/inherent_XDATCAR.gz')\n",
    "trajectory = tetrahedral_site_analysis( xdatcar, x_spec )\n",
    "populations[system][disorder] = site_populations(trajectory)"
   ]
  },
  {
   "cell_type": "code",
   "execution_count": 33,
   "metadata": {},
   "outputs": [
    {
     "name": "stdout",
     "output_type": "stream",
     "text": [
      "max mapping disp = 0.6035455650682233\n"
     ]
    },
    {
     "data": {
      "application/vnd.jupyter.widget-view+json": {
       "model_id": "c8cc3fe830004748995938b39c953c27",
       "version_major": 2,
       "version_minor": 0
      },
      "text/plain": [
       "HBox(children=(IntProgress(value=0, max=140), HTML(value='')))"
      ]
     },
     "metadata": {},
     "output_type": "display_data"
    }
   ],
   "source": [
    "system = 'Li6PS5Cl'\n",
    "disorder = '100p'\n",
    "x_spec = 'Cl'\n",
    "xdatcar = Xdatcar(f'{directory}/{system}/{disorder}/run1/inherent_XDATCAR.gz')\n",
    "trajectory = tetrahedral_site_analysis( xdatcar, x_spec )\n",
    "populations[system][disorder] = site_populations(trajectory)"
   ]
  },
  {
   "cell_type": "code",
   "execution_count": 35,
   "metadata": {},
   "outputs": [],
   "source": [
    "from matplotlib import rcParams\n",
    "rcParams['font.family'] = 'serif'\n",
    "rcParams['font.sans-serif'] = ['Minion Pro']\n",
    "rcParams['pdf.fonttype'] = 42\n",
    "rcParams['ps.fonttype'] = 42\n",
    "rcParams.update({'font.size': 18})\n",
    "rcParams['mathtext.fontset'] = 'dejavuserif'"
   ]
  },
  {
   "cell_type": "code",
   "execution_count": 36,
   "metadata": {},
   "outputs": [
    {
     "data": {
      "image/png": "[encoded data removed]",
      "text/plain": [
       "<Figure size 504x504 with 2 Axes>"
      ]
     },
     "metadata": {
      "image/png": {
       "height": 428,
       "width": 502
      },
      "needs_background": "light"
     },
     "output_type": "display_data"
    }
   ],
   "source": [
    "ind = np.arange(3)\n",
    "fig, ax = plt.subplots(2,1, figsize=(7,7))\n",
    "title = { 'Li6PS5I': r'Li$_6$PS$_5$I',\n",
    "          'Li6PS5Cl': r'Li$_6$PS$_5$Cl'}\n",
    "\n",
    "color = {'5': '#4179a7',\n",
    "         '2': '#f28e2b',\n",
    "         '4': '#59a14f',\n",
    "         '3': '#ef9da7', \n",
    "         '1': '#bab0ac',\n",
    "         '0': '#9f9f9f'}\n",
    "\n",
    "for j, system in enumerate(['Li6PS5I', 'Li6PS5Cl']):\n",
    "    bottom = np.zeros(3)\n",
    "    for i in range(5,-1,-1):\n",
    "        heights = [ populations[system]['0p'][str(i)],\n",
    "                    populations[system]['50p'][str(i)],\n",
    "                    populations[system]['100p'][str(i)] ]\n",
    "\n",
    "        heights.reverse()\n",
    "\n",
    "        width=0.5\n",
    "        ax[j].barh(ind, heights, width, left=bottom, label=f'{i}', color=color[str(i)])\n",
    "        bottom += heights\n",
    "    ax[j].set_xlabel(r'$P\\,(\\mathrm{site})$')\n",
    "    ax[j].set_yticklabels(['100%', '50%', '0%'])\n",
    "    ax[j].set_yticks([0,1,2])\n",
    "    ax[j].yaxis.tick_right()\n",
    "    ax[j].set_title(title[system], pad=15, loc='left', fontsize=18)\n",
    "ax[1].legend(bbox_to_anchor=(1.1,-0.6), ncol=6, handlelength=1, fancybox=False)\n",
    "plt.tight_layout()\n",
    "plt.savefig('../../figures/tetrahedral_site_populations.pdf', bbox_inches='tight')\n",
    "plt.show()"
   ]
  },
  {
   "cell_type": "code",
   "execution_count": 37,
   "metadata": {},
   "outputs": [
    {
     "data": {
      "text/plain": [
       "{'Li6PS5I': {'0p': {'0': 0.0,\n",
       "   '1': 0.0,\n",
       "   '2': 0.024516369047619047,\n",
       "   '3': 0.0,\n",
       "   '4': 0.0,\n",
       "   '5': 0.975483630952381},\n",
       "  '50p': {'0': 0.0,\n",
       "   '1': 0.0,\n",
       "   '2': 0.2875520833333333,\n",
       "   '3': 0.0,\n",
       "   '4': 0.0059375,\n",
       "   '5': 0.7065104166666667},\n",
       "  '100p': {'0': 0.0,\n",
       "   '1': 0.0,\n",
       "   '2': 0.46177083333333335,\n",
       "   '3': 0.0,\n",
       "   '4': 0.005,\n",
       "   '5': 0.5332291666666666}},\n",
       " 'Li6PS5Cl': {'0p': {'0': 0.0,\n",
       "   '1': 0.0,\n",
       "   '2': 0.18660714285714286,\n",
       "   '3': 0.0,\n",
       "   '4': 0.0,\n",
       "   '5': 0.8133928571428571},\n",
       "  '50p': {'0': 0.0,\n",
       "   '1': 3.7202380952380956e-05,\n",
       "   '2': 0.3119047619047619,\n",
       "   '3': 0.0,\n",
       "   '4': 0.028348214285714286,\n",
       "   '5': 0.6597098214285714},\n",
       "  '100p': {'0': 0.0,\n",
       "   '1': 0.0,\n",
       "   '2': 0.3761904761904762,\n",
       "   '3': 0.0,\n",
       "   '4': 0.07581845238095238,\n",
       "   '5': 0.5479910714285714}}}"
      ]
     },
     "execution_count": 37,
     "metadata": {},
     "output_type": "execute_result"
    }
   ],
   "source": [
    "populations"
   ]
  },
  {
   "cell_type": "code",
   "execution_count": null,
   "metadata": {},
   "outputs": [],
   "source": []
  }
 ],
 "metadata": {
  "kernelspec": {
   "display_name": "Python 3",
   "language": "python",
   "name": "python3"
  },
  "language_info": {
   "codemirror_mode": {
    "name": "ipython",
    "version": 3
   },
   "file_extension": ".py",
   "mimetype": "text/x-python",
   "name": "python",
   "nbconvert_exporter": "python",
   "pygments_lexer": "ipython3",
   "version": "3.7.0"
  }
 },
 "nbformat": 4,
 "nbformat_minor": 2
}
