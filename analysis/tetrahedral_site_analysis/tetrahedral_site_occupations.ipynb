{
 "cells": [
  {
   "cell_type": "markdown",
   "metadata": {},
   "source": [
    "# Tetrahedral site occupation analysis\n",
    "\n",
    "This notebook performs a site-occupation analysis of the Li<sub>6</sub>PS<sub>5</sub><i>X</i> molecular dynamics simulation trajectories, based on assigning lithium ions at each simulation timestep to one of a set of tetrahedral interstitial sites.\n",
    "\n",
    "The analysis is performed using the `site_analysis` module, and consists of the following steps:\n",
    "1. For each tetrahedral site type, construct a reference structure containing atoms placed at each of these tetrahedral site positions.\n",
    "2. Construct an &ldquo;anion reference structure&rdquo; containing S atoms at each of the the argyrodite anion positions.\n",
    "3. Taking the sequence of pymatgen `Structure`s from each MD simulation:\n",
    "    1. For the first structure in each MD simulation, we map each anion onto the nearest &ldquo;ideal&rdquo; anion site. The maximum distance we move any anion is printed. Large maximum mapping distances indicate the anion lattice in the MD structure is significantly distorted with respect to the ideal anion sublattice, which may introduct artefacts into the subsequent polyhedral analysis.\n",
    "    2. For each ideal cation site, we then find the site indices of the four nearest neighbours in this structure. This gives us the site indices of the vertex atoms that define each tetrahedral site.\n",
    "    3. Using the vertex indices, we construct a set of &ldquo;coordination polyhedra&rdquo; as  `site_analysis.CoordinationPolyehdra` objects.\n",
    "    4. We then perform a trajectory analysis on the full MD trajectory. At each timestep the mobile Li atoms are assigned to one of the tetrahedral coordination polyhedra.\n",
    "4. We can then query the resulting `site_analysis.Trajectory` object to exctract the populations of the occupied tetrahedral sites.\n"
   ]
  },
  {
   "cell_type": "code",
   "execution_count": 1,
   "metadata": {},
   "outputs": [],
   "source": [
    "import yaml\n",
    "from pymatgen.io.vasp import Xdatcar\n",
    "import matplotlib.pyplot as plt\n",
    "from site_analysis_functions import map_to_nearest_site\n",
    "from site_analysis_functions import tetrahedral_site_analysis\n",
    "from site_analysis_functions import site_populations\n",
    "import numpy as np\n",
    "\n",
    "import sys\n",
    "sys.path.insert(0, \"../../scripts/\")\n",
    "from utils import flatten_list"
   ]
  },
  {
   "cell_type": "code",
   "execution_count": 2,
   "metadata": {},
   "outputs": [
    {
     "name": "stdout",
     "output_type": "stream",
     "text": [
      "{'Li6PS5I': {'0p': [1, 2, 3, 4, 5, 6], '50p': [1, 2, 3, 4, 5, 6, 7], '100p': [1, 2, 3, 4, 5, 6, 7]}, 'Li6PS5Cl': {'0p': [1, 2, 3, 4, 5], '50p': [1, 2, 3, 4, 5, 6], '100p': [1, 2, 3, 4, 5, 6]}}\n"
     ]
    }
   ],
   "source": [
    "with open('../md_runs.yaml', 'r') as f:\n",
    "    md_runs = yaml.safe_load(f)\n",
    "print(md_runs)"
   ]
  },
  {
   "cell_type": "code",
   "execution_count": 3,
   "metadata": {},
   "outputs": [
    {
     "name": "stdout",
     "output_type": "stream",
     "text": [
      "Analysing Li6PS5I: 0p\n",
      "max mapping disp = 0.26 Angstroms\n"
     ]
    },
    {
     "data": {
      "application/vnd.jupyter.widget-view+json": {
       "model_id": "189589f2a5a34d45bb44aa803ceb8363",
       "version_major": 2,
       "version_minor": 0
      },
      "text/plain": [
       "HBox(children=(FloatProgress(value=0.0, max=700.0), HTML(value='')))"
      ]
     },
     "metadata": {},
     "output_type": "display_data"
    },
    {
     "name": "stdout",
     "output_type": "stream",
     "text": [
      "\n",
      "Analysing Li6PS5I: 50p\n",
      "max mapping disp = 0.58 Angstroms\n"
     ]
    },
    {
     "data": {
      "application/vnd.jupyter.widget-view+json": {
       "model_id": "d596c349794f4fc4aab9ae8dec1324d0",
       "version_major": 2,
       "version_minor": 0
      },
      "text/plain": [
       "HBox(children=(FloatProgress(value=0.0, max=700.0), HTML(value='')))"
      ]
     },
     "metadata": {},
     "output_type": "display_data"
    },
    {
     "name": "stdout",
     "output_type": "stream",
     "text": [
      "\n",
      "Analysing Li6PS5I: 100p\n",
      "max mapping disp = 0.43 Angstroms\n"
     ]
    },
    {
     "data": {
      "application/vnd.jupyter.widget-view+json": {
       "model_id": "706c2525bd3e4a06b4c78309ed646967",
       "version_major": 2,
       "version_minor": 0
      },
      "text/plain": [
       "HBox(children=(FloatProgress(value=0.0, max=700.0), HTML(value='')))"
      ]
     },
     "metadata": {},
     "output_type": "display_data"
    },
    {
     "name": "stdout",
     "output_type": "stream",
     "text": [
      "\n",
      "Analysing Li6PS5Cl: 0p\n",
      "max mapping disp = 0.89 Angstroms\n"
     ]
    },
    {
     "data": {
      "application/vnd.jupyter.widget-view+json": {
       "model_id": "55ffb540fd224ac7a16265460e65b80b",
       "version_major": 2,
       "version_minor": 0
      },
      "text/plain": [
       "HBox(children=(FloatProgress(value=0.0, max=700.0), HTML(value='')))"
      ]
     },
     "metadata": {},
     "output_type": "display_data"
    },
    {
     "name": "stdout",
     "output_type": "stream",
     "text": [
      "\n",
      "Analysing Li6PS5Cl: 50p\n",
      "max mapping disp = 0.78 Angstroms\n"
     ]
    },
    {
     "data": {
      "application/vnd.jupyter.widget-view+json": {
       "model_id": "c5992a576a2246bd8369f96c464a55e3",
       "version_major": 2,
       "version_minor": 0
      },
      "text/plain": [
       "HBox(children=(FloatProgress(value=0.0, max=700.0), HTML(value='')))"
      ]
     },
     "metadata": {},
     "output_type": "display_data"
    },
    {
     "name": "stdout",
     "output_type": "stream",
     "text": [
      "\n",
      "Analysing Li6PS5Cl: 100p\n",
      "max mapping disp = 0.60 Angstroms\n"
     ]
    },
    {
     "data": {
      "application/vnd.jupyter.widget-view+json": {
       "model_id": "e14f769c1749438d8d123942102867d3",
       "version_major": 2,
       "version_minor": 0
      },
      "text/plain": [
       "HBox(children=(FloatProgress(value=0.0, max=700.0), HTML(value='')))"
      ]
     },
     "metadata": {},
     "output_type": "display_data"
    },
    {
     "name": "stdout",
     "output_type": "stream",
     "text": [
      "\n"
     ]
    }
   ],
   "source": [
    "data_dir = '../../data'\n",
    "\n",
    "x_spec = {'Li6PS5I': 'I', 'Li6PS5Cl': 'Cl'}\n",
    "\n",
    "trajectory = {}\n",
    "populations = {}\n",
    "for system in md_runs:\n",
    "    trajectory[system] = {}\n",
    "    populations[system] = {}\n",
    "    for disorder, runs in md_runs[system].items():\n",
    "        print(f'Analysing {system}: {disorder}')\n",
    "        xdatcar_filenames = [f'{data_dir}/{system}/{disorder}/run{i}/inherent_XDATCAR.gz' for i in runs]\n",
    "        xdatcars = ( Xdatcar( f ) for f in xdatcar_filenames )\n",
    "        structures = flatten_list( [ x.structures for x in xdatcars ] )\n",
    "        trajectory[system][disorder] = tetrahedral_site_analysis( structures, x_spec[system] )\n",
    "        populations[system][disorder] = site_populations(trajectory[system][disorder])"
   ]
  },
  {
   "cell_type": "code",
   "execution_count": 4,
   "metadata": {},
   "outputs": [],
   "source": [
    "from matplotlib import rcParams\n",
    "\n",
    "rcParams['font.serif'] = \"Iowan Old Style\"\n",
    "rcParams['font.family'] = \"serif\"\n",
    "\n",
    "rcParams['font.family'] = 'serif'\n",
    "rcParams['mathtext.fontset'] = 'custom'\n",
    "rcParams['mathtext.rm'] = 'Iowan Old Style'\n",
    "rcParams['mathtext.it'] = 'Iowan Old Style:italic'\n",
    "rcParams['mathtext.bf'] = 'Iowan Old Style:bold'\n",
    "\n",
    "\n",
    "rcParams['pdf.fonttype'] = 42\n",
    "rcParams['ps.fonttype'] = 42\n",
    "rcParams.update({'font.size': 16})\n",
    "rcParams['text.usetex']=False"
   ]
  },
  {
   "cell_type": "code",
   "execution_count": 5,
   "metadata": {},
   "outputs": [
    {
     "data": {
      "image/png": "[encoded data removed]",
      "text/plain": [
       "<Figure size 504x504 with 2 Axes>"
      ]
     },
     "metadata": {
      "image/png": {
       "height": 427,
       "width": 483
      },
      "needs_background": "light"
     },
     "output_type": "display_data"
    }
   ],
   "source": [
    "ind = np.arange(3)\n",
    "fig, ax = plt.subplots(2,1, figsize=(7,7))\n",
    "title = { 'Li6PS5I': r'a) Li$_6$PS$_5$I',\n",
    "          'Li6PS5Cl': r'b) Li$_6$PS$_5$Cl'}\n",
    "\n",
    "color = {'5': '#4179a7',\n",
    "         '2': '#f28e2b',\n",
    "         '4': '#59a14f',\n",
    "         '3': '#ef9da7', \n",
    "         '1': '#bab0ac',\n",
    "         '0': '#9f9f9f'}\n",
    "\n",
    "for j, system in enumerate(['Li6PS5I', 'Li6PS5Cl']):\n",
    "    bottom = np.zeros(3)\n",
    "    for i in [5, 2, 4, 3, 1, 0]:\n",
    "        heights = [ populations[system]['0p'][str(i)],\n",
    "                    populations[system]['50p'][str(i)],\n",
    "                    populations[system]['100p'][str(i)] ]\n",
    "\n",
    "        heights.reverse()\n",
    "\n",
    "        width=0.5\n",
    "        ax[j].barh(ind, heights, width, left=bottom, label=f'{i}', color=color[str(i)])\n",
    "        bottom += heights\n",
    "    ax[j].set_xlabel(r'$P\\,(\\mathrm{site})$')\n",
    "    ax[j].set_yticklabels(['100%', '50%', '0%'])\n",
    "    ax[j].set_yticks([0,1,2])\n",
    "    ax[j].yaxis.tick_right()\n",
    "    ax[j].set_title(title[system], pad=15, loc='left', fontsize=18)\n",
    "    ax[j].spines['right'].set_visible(False)\n",
    "    ax[j].spines['top'].set_visible(False)\n",
    "    ax[j].spines['left'].set_visible(False)\n",
    "    ax[j].spines['bottom'].set_visible(False)\n",
    "handles, labels = ax[1].get_legend_handles_labels()\n",
    "ax[1].legend(handles[0:3], ['type 5', 'type 2', 'type 4'],\n",
    "             bbox_to_anchor=(0.9,-0.7), ncol=6, handlelength=1, frameon=False)\n",
    "plt.tight_layout()\n",
    "plt.savefig('../../figures/tetrahedral_site_populations.pdf', bbox_inches='tight')\n",
    "plt.show()"
   ]
  },
  {
   "cell_type": "code",
   "execution_count": 6,
   "metadata": {},
   "outputs": [
    {
     "data": {
      "text/plain": [
       "{'Li6PS5I': {'0p': {'0': 0.0,\n",
       "   '1': 0.0,\n",
       "   '2': 0.02654761904761905,\n",
       "   '3': 0.0,\n",
       "   '4': 0.0,\n",
       "   '5': 0.973452380952381},\n",
       "  '50p': {'0': 0.0,\n",
       "   '1': 0.0,\n",
       "   '2': 0.28404017857142855,\n",
       "   '3': 0.0,\n",
       "   '4': 0.0056770833333333335,\n",
       "   '5': 0.7102827380952381},\n",
       "  '100p': {'0': 0.0,\n",
       "   '1': 0.0,\n",
       "   '2': 0.468891369047619,\n",
       "   '3': 0.0,\n",
       "   '4': 0.005446428571428572,\n",
       "   '5': 0.5256622023809524}},\n",
       " 'Li6PS5Cl': {'0p': {'0': 0.0,\n",
       "   '1': 8.184523809523809e-05,\n",
       "   '2': 0.19406994047619047,\n",
       "   '3': 0.0,\n",
       "   '4': 7.4404761904761905e-06,\n",
       "   '5': 0.8058407738095238},\n",
       "  '50p': {'0': 0.0,\n",
       "   '1': 2.9761904761904762e-05,\n",
       "   '2': 0.30372767857142857,\n",
       "   '3': 0.0,\n",
       "   '4': 0.026569940476190476,\n",
       "   '5': 0.6696726190476191},\n",
       "  '100p': {'0': 0.0,\n",
       "   '1': 0.0,\n",
       "   '2': 0.3675372023809524,\n",
       "   '3': 0.0,\n",
       "   '4': 0.07099702380952382,\n",
       "   '5': 0.5614657738095238}}}"
      ]
     },
     "execution_count": 6,
     "metadata": {},
     "output_type": "execute_result"
    }
   ],
   "source": [
    "populations"
   ]
  },
  {
   "cell_type": "code",
   "execution_count": 7,
   "metadata": {},
   "outputs": [
    {
     "data": {
      "application/json": {
       "Software versions": [
        {
         "module": "Python",
         "version": "3.7.0 64bit [Clang 10.0.0 (clang-1000.10.44.2)]"
        },
        {
         "module": "IPython",
         "version": "7.0.1"
        },
        {
         "module": "OS",
         "version": "Darwin 19.4.0 x86_64 i386 64bit"
        },
        {
         "module": "yaml",
         "version": "5.2"
        },
        {
         "module": "pymatgen",
         "version": "2020.1.28"
        },
        {
         "module": "tqdm",
         "version": "4.46.0"
        },
        {
         "module": "numpy",
         "version": "1.18.3"
        },
        {
         "module": "site_analysis",
         "version": "0.0.2"
        },
        {
         "module": "matplotlib",
         "version": "3.2.0rc1"
        }
       ]
      },
      "text/html": [
       "<table><tr><th>Software</th><th>Version</th></tr><tr><td>Python</td><td>3.7.0 64bit [Clang 10.0.0 (clang-1000.10.44.2)]</td></tr><tr><td>IPython</td><td>7.0.1</td></tr><tr><td>OS</td><td>Darwin 19.4.0 x86_64 i386 64bit</td></tr><tr><td>yaml</td><td>5.2</td></tr><tr><td>pymatgen</td><td>2020.1.28</td></tr><tr><td>tqdm</td><td>4.46.0</td></tr><tr><td>numpy</td><td>1.18.3</td></tr><tr><td>site_analysis</td><td>0.0.2</td></tr><tr><td>matplotlib</td><td>3.2.0rc1</td></tr><tr><td colspan='2'>Wed May 20 17:19:14 2020 BST</td></tr></table>"
      ],
      "text/latex": [
       "\\begin{tabular}{|l|l|}\\hline\n",
       "{\\bf Software} & {\\bf Version} \\\\ \\hline\\hline\n",
       "Python & 3.7.0 64bit [Clang 10.0.0 (clang-1000.10.44.2)] \\\\ \\hline\n",
       "IPython & 7.0.1 \\\\ \\hline\n",
       "OS & Darwin 19.4.0 x86\\_64 i386 64bit \\\\ \\hline\n",
       "yaml & 5.2 \\\\ \\hline\n",
       "pymatgen & 2020.1.28 \\\\ \\hline\n",
       "tqdm & 4.46.0 \\\\ \\hline\n",
       "numpy & 1.18.3 \\\\ \\hline\n",
       "site_analysis & 0.0.2 \\\\ \\hline\n",
       "matplotlib & 3.2.0rc1 \\\\ \\hline\n",
       "\\hline \\multicolumn{2}{|l|}{Wed May 20 17:19:14 2020 BST} \\\\ \\hline\n",
       "\\end{tabular}\n"
      ],
      "text/plain": [
       "Software versions\n",
       "Python 3.7.0 64bit [Clang 10.0.0 (clang-1000.10.44.2)]\n",
       "IPython 7.0.1\n",
       "OS Darwin 19.4.0 x86_64 i386 64bit\n",
       "yaml 5.2\n",
       "pymatgen 2020.1.28\n",
       "tqdm 4.46.0\n",
       "numpy 1.18.3\n",
       "site_analysis 0.0.2\n",
       "matplotlib 3.2.0rc1\n",
       "Wed May 20 17:19:14 2020 BST"
      ]
     },
     "execution_count": 7,
     "metadata": {},
     "output_type": "execute_result"
    }
   ],
   "source": [
    "%load_ext version_information\n",
    "\n",
    "%version_information yaml, pymatgen, tqdm, numpy, site_analysis, matplotlib"
   ]
  },
  {
   "cell_type": "code",
   "execution_count": null,
   "metadata": {},
   "outputs": [],
   "source": []
  }
 ],
 "metadata": {
  "kernelspec": {
   "display_name": "Python 3",
   "language": "python",
   "name": "python3"
  },
  "language_info": {
   "codemirror_mode": {
    "name": "ipython",
    "version": 3
   },
   "file_extension": ".py",
   "mimetype": "text/x-python",
   "name": "python",
   "nbconvert_exporter": "python",
   "pygments_lexer": "ipython3",
   "version": "3.7.0"
  }
 },
 "nbformat": 4,
 "nbformat_minor": 2
}
